{
 "cells": [
  {
   "cell_type": "code",
   "execution_count": 1,
   "id": "96ca9a0a",
   "metadata": {},
   "outputs": [],
   "source": [
    "import numpy as np\n",
    "import pandas as pd\n",
    "import matplotlib.pyplot as plt\n",
    "import seaborn as sns"
   ]
  },
  {
   "cell_type": "code",
   "execution_count": 2,
   "id": "caa841cc",
   "metadata": {},
   "outputs": [],
   "source": [
    "df = pd.read_csv('Dataset_ecommerce.csv', parse_dates=['InvoiceDate'])"
   ]
  },
  {
   "cell_type": "code",
   "execution_count": 3,
   "id": "699396a2",
   "metadata": {},
   "outputs": [
    {
     "data": {
      "text/html": [
       "<div>\n",
       "<style scoped>\n",
       "    .dataframe tbody tr th:only-of-type {\n",
       "        vertical-align: middle;\n",
       "    }\n",
       "\n",
       "    .dataframe tbody tr th {\n",
       "        vertical-align: top;\n",
       "    }\n",
       "\n",
       "    .dataframe thead th {\n",
       "        text-align: right;\n",
       "    }\n",
       "</style>\n",
       "<table border=\"1\" class=\"dataframe\">\n",
       "  <thead>\n",
       "    <tr style=\"text-align: right;\">\n",
       "      <th></th>\n",
       "      <th>InvoiceNo</th>\n",
       "      <th>InvoiceDate</th>\n",
       "      <th>CustomerID</th>\n",
       "      <th>StockCode</th>\n",
       "      <th>Description</th>\n",
       "      <th>Quantity</th>\n",
       "      <th>UnitPrice</th>\n",
       "      <th>Country</th>\n",
       "    </tr>\n",
       "  </thead>\n",
       "  <tbody>\n",
       "    <tr>\n",
       "      <th>0</th>\n",
       "      <td>536365</td>\n",
       "      <td>2010-12-01 08:26:00</td>\n",
       "      <td>17850.0</td>\n",
       "      <td>SC1734</td>\n",
       "      <td>Electronics</td>\n",
       "      <td>65</td>\n",
       "      <td>10.23</td>\n",
       "      <td>Egypt</td>\n",
       "    </tr>\n",
       "    <tr>\n",
       "      <th>1</th>\n",
       "      <td>536365</td>\n",
       "      <td>2010-12-01 08:26:00</td>\n",
       "      <td>17850.0</td>\n",
       "      <td>SC2088</td>\n",
       "      <td>Furniture</td>\n",
       "      <td>95</td>\n",
       "      <td>19.61</td>\n",
       "      <td>Mali</td>\n",
       "    </tr>\n",
       "    <tr>\n",
       "      <th>2</th>\n",
       "      <td>536365</td>\n",
       "      <td>2010-12-01 08:26:00</td>\n",
       "      <td>17850.0</td>\n",
       "      <td>SC3463</td>\n",
       "      <td>Books</td>\n",
       "      <td>78</td>\n",
       "      <td>61.49</td>\n",
       "      <td>Mali</td>\n",
       "    </tr>\n",
       "    <tr>\n",
       "      <th>3</th>\n",
       "      <td>536365</td>\n",
       "      <td>2010-12-01 08:26:00</td>\n",
       "      <td>17850.0</td>\n",
       "      <td>SC6228</td>\n",
       "      <td>Toys</td>\n",
       "      <td>15</td>\n",
       "      <td>24.73</td>\n",
       "      <td>South Africa</td>\n",
       "    </tr>\n",
       "    <tr>\n",
       "      <th>4</th>\n",
       "      <td>536365</td>\n",
       "      <td>2010-12-01 08:26:00</td>\n",
       "      <td>17850.0</td>\n",
       "      <td>SC2149</td>\n",
       "      <td>Toys</td>\n",
       "      <td>50</td>\n",
       "      <td>38.83</td>\n",
       "      <td>Rwanda</td>\n",
       "    </tr>\n",
       "  </tbody>\n",
       "</table>\n",
       "</div>"
      ],
      "text/plain": [
       "  InvoiceNo         InvoiceDate  CustomerID StockCode  Description  Quantity  \\\n",
       "0    536365 2010-12-01 08:26:00     17850.0    SC1734  Electronics        65   \n",
       "1    536365 2010-12-01 08:26:00     17850.0    SC2088    Furniture        95   \n",
       "2    536365 2010-12-01 08:26:00     17850.0    SC3463        Books        78   \n",
       "3    536365 2010-12-01 08:26:00     17850.0    SC6228         Toys        15   \n",
       "4    536365 2010-12-01 08:26:00     17850.0    SC2149         Toys        50   \n",
       "\n",
       "   UnitPrice       Country  \n",
       "0      10.23         Egypt  \n",
       "1      19.61          Mali  \n",
       "2      61.49          Mali  \n",
       "3      24.73  South Africa  \n",
       "4      38.83        Rwanda  "
      ]
     },
     "execution_count": 3,
     "metadata": {},
     "output_type": "execute_result"
    }
   ],
   "source": [
    "df.head()"
   ]
  },
  {
   "cell_type": "code",
   "execution_count": 4,
   "id": "9f0cd5b2",
   "metadata": {},
   "outputs": [
    {
     "name": "stdout",
     "output_type": "stream",
     "text": [
      "<class 'pandas.core.frame.DataFrame'>\n",
      "RangeIndex: 541909 entries, 0 to 541908\n",
      "Data columns (total 8 columns):\n",
      " #   Column       Non-Null Count   Dtype         \n",
      "---  ------       --------------   -----         \n",
      " 0   InvoiceNo    541909 non-null  object        \n",
      " 1   InvoiceDate  541909 non-null  datetime64[ns]\n",
      " 2   CustomerID   406829 non-null  float64       \n",
      " 3   StockCode    541909 non-null  object        \n",
      " 4   Description  541909 non-null  object        \n",
      " 5   Quantity     541909 non-null  int64         \n",
      " 6   UnitPrice    541909 non-null  float64       \n",
      " 7   Country      541909 non-null  object        \n",
      "dtypes: datetime64[ns](1), float64(2), int64(1), object(4)\n",
      "memory usage: 33.1+ MB\n"
     ]
    }
   ],
   "source": [
    "df. info()"
   ]
  },
  {
   "cell_type": "code",
   "execution_count": 7,
   "id": "4757fc8f",
   "metadata": {},
   "outputs": [
    {
     "data": {
      "text/plain": [
       "InvoiceNo      0\n",
       "InvoiceDate    0\n",
       "CustomerID     0\n",
       "StockCode      0\n",
       "Description    0\n",
       "Quantity       0\n",
       "UnitPrice      0\n",
       "Country        0\n",
       "dtype: int64"
      ]
     },
     "execution_count": 7,
     "metadata": {},
     "output_type": "execute_result"
    }
   ],
   "source": [
    "df.isnull().sum()"
   ]
  },
  {
   "cell_type": "code",
   "execution_count": 8,
   "id": "06e447ac",
   "metadata": {},
   "outputs": [],
   "source": [
    "df= df.dropna(subset=['CustomerID'])"
   ]
  },
  {
   "cell_type": "code",
   "execution_count": 9,
   "id": "559c50a0",
   "metadata": {},
   "outputs": [
    {
     "data": {
      "text/html": [
       "<div>\n",
       "<style scoped>\n",
       "    .dataframe tbody tr th:only-of-type {\n",
       "        vertical-align: middle;\n",
       "    }\n",
       "\n",
       "    .dataframe tbody tr th {\n",
       "        vertical-align: top;\n",
       "    }\n",
       "\n",
       "    .dataframe thead th {\n",
       "        text-align: right;\n",
       "    }\n",
       "</style>\n",
       "<table border=\"1\" class=\"dataframe\">\n",
       "  <thead>\n",
       "    <tr style=\"text-align: right;\">\n",
       "      <th></th>\n",
       "      <th>InvoiceNo</th>\n",
       "      <th>InvoiceDate</th>\n",
       "      <th>CustomerID</th>\n",
       "      <th>StockCode</th>\n",
       "      <th>Description</th>\n",
       "      <th>Quantity</th>\n",
       "      <th>UnitPrice</th>\n",
       "      <th>Country</th>\n",
       "    </tr>\n",
       "  </thead>\n",
       "  <tbody>\n",
       "    <tr>\n",
       "      <th>0</th>\n",
       "      <td>536365</td>\n",
       "      <td>2010-12-01 08:26:00</td>\n",
       "      <td>17850.0</td>\n",
       "      <td>SC1734</td>\n",
       "      <td>Electronics</td>\n",
       "      <td>65</td>\n",
       "      <td>10.23</td>\n",
       "      <td>Egypt</td>\n",
       "    </tr>\n",
       "    <tr>\n",
       "      <th>1</th>\n",
       "      <td>536365</td>\n",
       "      <td>2010-12-01 08:26:00</td>\n",
       "      <td>17850.0</td>\n",
       "      <td>SC2088</td>\n",
       "      <td>Furniture</td>\n",
       "      <td>95</td>\n",
       "      <td>19.61</td>\n",
       "      <td>Mali</td>\n",
       "    </tr>\n",
       "    <tr>\n",
       "      <th>2</th>\n",
       "      <td>536365</td>\n",
       "      <td>2010-12-01 08:26:00</td>\n",
       "      <td>17850.0</td>\n",
       "      <td>SC3463</td>\n",
       "      <td>Books</td>\n",
       "      <td>78</td>\n",
       "      <td>61.49</td>\n",
       "      <td>Mali</td>\n",
       "    </tr>\n",
       "    <tr>\n",
       "      <th>3</th>\n",
       "      <td>536365</td>\n",
       "      <td>2010-12-01 08:26:00</td>\n",
       "      <td>17850.0</td>\n",
       "      <td>SC6228</td>\n",
       "      <td>Toys</td>\n",
       "      <td>15</td>\n",
       "      <td>24.73</td>\n",
       "      <td>South Africa</td>\n",
       "    </tr>\n",
       "    <tr>\n",
       "      <th>4</th>\n",
       "      <td>536365</td>\n",
       "      <td>2010-12-01 08:26:00</td>\n",
       "      <td>17850.0</td>\n",
       "      <td>SC2149</td>\n",
       "      <td>Toys</td>\n",
       "      <td>50</td>\n",
       "      <td>38.83</td>\n",
       "      <td>Rwanda</td>\n",
       "    </tr>\n",
       "    <tr>\n",
       "      <th>5</th>\n",
       "      <td>536365</td>\n",
       "      <td>2010-12-01 08:26:00</td>\n",
       "      <td>17850.0</td>\n",
       "      <td>SC7895</td>\n",
       "      <td>Toys</td>\n",
       "      <td>41</td>\n",
       "      <td>45.31</td>\n",
       "      <td>Sierra Leone</td>\n",
       "    </tr>\n",
       "    <tr>\n",
       "      <th>6</th>\n",
       "      <td>536365</td>\n",
       "      <td>2010-12-01 08:26:00</td>\n",
       "      <td>17850.0</td>\n",
       "      <td>SC8608</td>\n",
       "      <td>Books</td>\n",
       "      <td>44</td>\n",
       "      <td>39.31</td>\n",
       "      <td>Benin</td>\n",
       "    </tr>\n",
       "    <tr>\n",
       "      <th>7</th>\n",
       "      <td>536366</td>\n",
       "      <td>2010-12-01 08:28:00</td>\n",
       "      <td>17850.0</td>\n",
       "      <td>SC3216</td>\n",
       "      <td>Toys</td>\n",
       "      <td>47</td>\n",
       "      <td>77.35</td>\n",
       "      <td>Burkina Faso</td>\n",
       "    </tr>\n",
       "    <tr>\n",
       "      <th>8</th>\n",
       "      <td>536366</td>\n",
       "      <td>2010-12-01 08:28:00</td>\n",
       "      <td>17850.0</td>\n",
       "      <td>SC1236</td>\n",
       "      <td>Kitchenware</td>\n",
       "      <td>19</td>\n",
       "      <td>35.11</td>\n",
       "      <td>Nigeria</td>\n",
       "    </tr>\n",
       "    <tr>\n",
       "      <th>9</th>\n",
       "      <td>536367</td>\n",
       "      <td>2010-12-01 08:34:00</td>\n",
       "      <td>13047.0</td>\n",
       "      <td>SC4513</td>\n",
       "      <td>Furniture</td>\n",
       "      <td>55</td>\n",
       "      <td>3.21</td>\n",
       "      <td>Cote d'Ivoire</td>\n",
       "    </tr>\n",
       "  </tbody>\n",
       "</table>\n",
       "</div>"
      ],
      "text/plain": [
       "  InvoiceNo         InvoiceDate  CustomerID StockCode  Description  Quantity  \\\n",
       "0    536365 2010-12-01 08:26:00     17850.0    SC1734  Electronics        65   \n",
       "1    536365 2010-12-01 08:26:00     17850.0    SC2088    Furniture        95   \n",
       "2    536365 2010-12-01 08:26:00     17850.0    SC3463        Books        78   \n",
       "3    536365 2010-12-01 08:26:00     17850.0    SC6228         Toys        15   \n",
       "4    536365 2010-12-01 08:26:00     17850.0    SC2149         Toys        50   \n",
       "5    536365 2010-12-01 08:26:00     17850.0    SC7895         Toys        41   \n",
       "6    536365 2010-12-01 08:26:00     17850.0    SC8608        Books        44   \n",
       "7    536366 2010-12-01 08:28:00     17850.0    SC3216         Toys        47   \n",
       "8    536366 2010-12-01 08:28:00     17850.0    SC1236  Kitchenware        19   \n",
       "9    536367 2010-12-01 08:34:00     13047.0    SC4513    Furniture        55   \n",
       "\n",
       "   UnitPrice        Country  \n",
       "0      10.23          Egypt  \n",
       "1      19.61           Mali  \n",
       "2      61.49           Mali  \n",
       "3      24.73   South Africa  \n",
       "4      38.83         Rwanda  \n",
       "5      45.31   Sierra Leone  \n",
       "6      39.31          Benin  \n",
       "7      77.35   Burkina Faso  \n",
       "8      35.11        Nigeria  \n",
       "9       3.21  Cote d'Ivoire  "
      ]
     },
     "execution_count": 9,
     "metadata": {},
     "output_type": "execute_result"
    }
   ],
   "source": [
    "df.head(10)"
   ]
  },
  {
   "cell_type": "code",
   "execution_count": 10,
   "id": "a44b1fd3",
   "metadata": {},
   "outputs": [],
   "source": [
    "df['customerID'] = df['CustomerID'].astype(int).astype(str)\n",
    "                                        "
   ]
  },
  {
   "cell_type": "code",
   "execution_count": 11,
   "id": "6f32b2a7",
   "metadata": {},
   "outputs": [
    {
     "name": "stdout",
     "output_type": "stream",
     "text": [
      "<class 'pandas.core.frame.DataFrame'>\n",
      "Int64Index: 406829 entries, 0 to 541908\n",
      "Data columns (total 9 columns):\n",
      " #   Column       Non-Null Count   Dtype         \n",
      "---  ------       --------------   -----         \n",
      " 0   InvoiceNo    406829 non-null  object        \n",
      " 1   InvoiceDate  406829 non-null  datetime64[ns]\n",
      " 2   CustomerID   406829 non-null  float64       \n",
      " 3   StockCode    406829 non-null  object        \n",
      " 4   Description  406829 non-null  object        \n",
      " 5   Quantity     406829 non-null  int64         \n",
      " 6   UnitPrice    406829 non-null  float64       \n",
      " 7   Country      406829 non-null  object        \n",
      " 8   customerID   406829 non-null  object        \n",
      "dtypes: datetime64[ns](1), float64(2), int64(1), object(5)\n",
      "memory usage: 31.0+ MB\n"
     ]
    }
   ],
   "source": [
    "df.info()"
   ]
  },
  {
   "cell_type": "code",
   "execution_count": 12,
   "id": "846edc14",
   "metadata": {},
   "outputs": [],
   "source": [
    "num_customers = df['CustomerID'].nunique()\n",
    "num_Transactions = df['InvoiceNo'].nunique()\n",
    "num_products = df['StockCode'].nunique()"
   ]
  },
  {
   "cell_type": "code",
   "execution_count": 13,
   "id": "db5ea03f",
   "metadata": {},
   "outputs": [
    {
     "name": "stdout",
     "output_type": "stream",
     "text": [
      "Number of unique customers 4372\n",
      "Number of Transactions 22190\n",
      "Number of products 9000\n"
     ]
    }
   ],
   "source": [
    "print(f'Number of unique customers {num_customers}')\n",
    "print(f'Number of Transactions {num_Transactions}')\n",
    "print(f'Number of products {num_products}')"
   ]
  },
  {
   "cell_type": "code",
   "execution_count": 14,
   "id": "08d4f676",
   "metadata": {},
   "outputs": [],
   "source": [
    "date_range = (df['InvoiceDate'].min(),df['InvoiceDate'].max())"
   ]
  },
  {
   "cell_type": "code",
   "execution_count": 15,
   "id": "24937021",
   "metadata": {},
   "outputs": [
    {
     "name": "stdout",
     "output_type": "stream",
     "text": [
      " Transaction period: 2010-12-01 08:26:00, 2011-12-09 12:50:00\n"
     ]
    }
   ],
   "source": [
    "print(f' Transaction period: {date_range[0]}, {date_range[1]}')"
   ]
  },
  {
   "cell_type": "code",
   "execution_count": 16,
   "id": "b2bb0395",
   "metadata": {},
   "outputs": [
    {
     "name": "stdout",
     "output_type": "stream",
     "text": [
      "Rows with negative quantity: 0\n"
     ]
    }
   ],
   "source": [
    "print(f'Rows with negative quantity: {(df.Quantity <= 0).sum()}')"
   ]
  },
  {
   "cell_type": "code",
   "execution_count": 17,
   "id": "587c96c7",
   "metadata": {},
   "outputs": [],
   "source": [
    "top_countries = df.groupby('Country')['CustomerID'].nunique().sort_values(ascending=False).head()"
   ]
  },
  {
   "cell_type": "code",
   "execution_count": 18,
   "id": "40b96cb9",
   "metadata": {},
   "outputs": [
    {
     "name": "stdout",
     "output_type": "stream",
     "text": [
      "Country\n",
      "Mozambique      3072\n",
      "Benin           3054\n",
      "Togo            3053\n",
      "Nigeria         3051\n",
      "Burkina Faso    3049\n",
      "Name: CustomerID, dtype: int64\n"
     ]
    }
   ],
   "source": [
    "print(top_countries)"
   ]
  },
  {
   "cell_type": "code",
   "execution_count": 19,
   "id": "aa0a2132",
   "metadata": {},
   "outputs": [
    {
     "data": {
      "image/png": "[encoded data removed]",
      "text/plain": [
       "<Figure size 500x300 with 1 Axes>"
      ]
     },
     "metadata": {},
     "output_type": "display_data"
    }
   ],
   "source": [
    "plt.figure(figsize=(5, 3))\n",
    "sns.barplot(x= top_countries.values, y=top_countries.index, palette= 'viridis')\n",
    "plt.title('Top 5 Countries by unique Customers')\n",
    "plt.xlabel('Number of Customers')\n",
    "plt.ylabel('Country')\n",
    "plt.show()"
   ]
  },
  {
   "cell_type": "code",
   "execution_count": 20,
   "id": "b0ddfe45",
   "metadata": {},
   "outputs": [
    {
     "data": {
      "image/png": "[encoded data removed]",
      "text/plain": [
       "<Figure size 500x300 with 1 Axes>"
      ]
     },
     "metadata": {},
     "output_type": "display_data"
    }
   ],
   "source": [
    "plt.figure(figsize=(5, 3))\n",
    "sns.barplot(x= top_countries.values, y=top_countries.index, palette= 'viridis')\n",
    "plt.xlim(min(top_countries.values) - 5, max(top_countries.values) + 5 )\n",
    "plt.title('Top 5 Countries by unique Customers')\n",
    "plt.xlabel('Number of Customers')\n",
    "plt.ylabel('Country')\n",
    "plt.show()"
   ]
  },
  {
   "cell_type": "code",
   "execution_count": 21,
   "id": "d07a4a66",
   "metadata": {},
   "outputs": [
    {
     "data": {
      "text/html": [
       "<div>\n",
       "<style scoped>\n",
       "    .dataframe tbody tr th:only-of-type {\n",
       "        vertical-align: middle;\n",
       "    }\n",
       "\n",
       "    .dataframe tbody tr th {\n",
       "        vertical-align: top;\n",
       "    }\n",
       "\n",
       "    .dataframe thead th {\n",
       "        text-align: right;\n",
       "    }\n",
       "</style>\n",
       "<table border=\"1\" class=\"dataframe\">\n",
       "  <thead>\n",
       "    <tr style=\"text-align: right;\">\n",
       "      <th></th>\n",
       "      <th>InvoiceNo</th>\n",
       "      <th>InvoiceDate</th>\n",
       "      <th>CustomerID</th>\n",
       "      <th>StockCode</th>\n",
       "      <th>Description</th>\n",
       "      <th>Quantity</th>\n",
       "      <th>UnitPrice</th>\n",
       "      <th>Country</th>\n",
       "      <th>customerID</th>\n",
       "    </tr>\n",
       "  </thead>\n",
       "  <tbody>\n",
       "    <tr>\n",
       "      <th>0</th>\n",
       "      <td>536365</td>\n",
       "      <td>2010-12-01 08:26:00</td>\n",
       "      <td>17850.0</td>\n",
       "      <td>SC1734</td>\n",
       "      <td>Electronics</td>\n",
       "      <td>65</td>\n",
       "      <td>10.23</td>\n",
       "      <td>Egypt</td>\n",
       "      <td>17850</td>\n",
       "    </tr>\n",
       "    <tr>\n",
       "      <th>1</th>\n",
       "      <td>536365</td>\n",
       "      <td>2010-12-01 08:26:00</td>\n",
       "      <td>17850.0</td>\n",
       "      <td>SC2088</td>\n",
       "      <td>Furniture</td>\n",
       "      <td>95</td>\n",
       "      <td>19.61</td>\n",
       "      <td>Mali</td>\n",
       "      <td>17850</td>\n",
       "    </tr>\n",
       "    <tr>\n",
       "      <th>2</th>\n",
       "      <td>536365</td>\n",
       "      <td>2010-12-01 08:26:00</td>\n",
       "      <td>17850.0</td>\n",
       "      <td>SC3463</td>\n",
       "      <td>Books</td>\n",
       "      <td>78</td>\n",
       "      <td>61.49</td>\n",
       "      <td>Mali</td>\n",
       "      <td>17850</td>\n",
       "    </tr>\n",
       "    <tr>\n",
       "      <th>3</th>\n",
       "      <td>536365</td>\n",
       "      <td>2010-12-01 08:26:00</td>\n",
       "      <td>17850.0</td>\n",
       "      <td>SC6228</td>\n",
       "      <td>Toys</td>\n",
       "      <td>15</td>\n",
       "      <td>24.73</td>\n",
       "      <td>South Africa</td>\n",
       "      <td>17850</td>\n",
       "    </tr>\n",
       "    <tr>\n",
       "      <th>4</th>\n",
       "      <td>536365</td>\n",
       "      <td>2010-12-01 08:26:00</td>\n",
       "      <td>17850.0</td>\n",
       "      <td>SC2149</td>\n",
       "      <td>Toys</td>\n",
       "      <td>50</td>\n",
       "      <td>38.83</td>\n",
       "      <td>Rwanda</td>\n",
       "      <td>17850</td>\n",
       "    </tr>\n",
       "  </tbody>\n",
       "</table>\n",
       "</div>"
      ],
      "text/plain": [
       "  InvoiceNo         InvoiceDate  CustomerID StockCode  Description  Quantity  \\\n",
       "0    536365 2010-12-01 08:26:00     17850.0    SC1734  Electronics        65   \n",
       "1    536365 2010-12-01 08:26:00     17850.0    SC2088    Furniture        95   \n",
       "2    536365 2010-12-01 08:26:00     17850.0    SC3463        Books        78   \n",
       "3    536365 2010-12-01 08:26:00     17850.0    SC6228         Toys        15   \n",
       "4    536365 2010-12-01 08:26:00     17850.0    SC2149         Toys        50   \n",
       "\n",
       "   UnitPrice       Country customerID  \n",
       "0      10.23         Egypt      17850  \n",
       "1      19.61          Mali      17850  \n",
       "2      61.49          Mali      17850  \n",
       "3      24.73  South Africa      17850  \n",
       "4      38.83        Rwanda      17850  "
      ]
     },
     "execution_count": 21,
     "metadata": {},
     "output_type": "execute_result"
    }
   ],
   "source": [
    "df.head()"
   ]
  },
  {
   "cell_type": "code",
   "execution_count": 22,
   "id": "7d435871",
   "metadata": {},
   "outputs": [],
   "source": [
    "df['InvoiceMonth'] = df['InvoiceDate'].dt.to_period('M')"
   ]
  },
  {
   "cell_type": "code",
   "execution_count": 23,
   "id": "3781b762",
   "metadata": {},
   "outputs": [],
   "source": [
    "df['Revenue'] = df['Quantity'] * df['UnitPrice']"
   ]
  },
  {
   "cell_type": "code",
   "execution_count": 24,
   "id": "c812f352",
   "metadata": {},
   "outputs": [
    {
     "data": {
      "text/html": [
       "<div>\n",
       "<style scoped>\n",
       "    .dataframe tbody tr th:only-of-type {\n",
       "        vertical-align: middle;\n",
       "    }\n",
       "\n",
       "    .dataframe tbody tr th {\n",
       "        vertical-align: top;\n",
       "    }\n",
       "\n",
       "    .dataframe thead th {\n",
       "        text-align: right;\n",
       "    }\n",
       "</style>\n",
       "<table border=\"1\" class=\"dataframe\">\n",
       "  <thead>\n",
       "    <tr style=\"text-align: right;\">\n",
       "      <th></th>\n",
       "      <th>InvoiceNo</th>\n",
       "      <th>InvoiceDate</th>\n",
       "      <th>CustomerID</th>\n",
       "      <th>StockCode</th>\n",
       "      <th>Description</th>\n",
       "      <th>Quantity</th>\n",
       "      <th>UnitPrice</th>\n",
       "      <th>Country</th>\n",
       "      <th>customerID</th>\n",
       "      <th>InvoiceMonth</th>\n",
       "      <th>Revenue</th>\n",
       "    </tr>\n",
       "  </thead>\n",
       "  <tbody>\n",
       "    <tr>\n",
       "      <th>0</th>\n",
       "      <td>536365</td>\n",
       "      <td>2010-12-01 08:26:00</td>\n",
       "      <td>17850.0</td>\n",
       "      <td>SC1734</td>\n",
       "      <td>Electronics</td>\n",
       "      <td>65</td>\n",
       "      <td>10.23</td>\n",
       "      <td>Egypt</td>\n",
       "      <td>17850</td>\n",
       "      <td>2010-12</td>\n",
       "      <td>664.95</td>\n",
       "    </tr>\n",
       "    <tr>\n",
       "      <th>1</th>\n",
       "      <td>536365</td>\n",
       "      <td>2010-12-01 08:26:00</td>\n",
       "      <td>17850.0</td>\n",
       "      <td>SC2088</td>\n",
       "      <td>Furniture</td>\n",
       "      <td>95</td>\n",
       "      <td>19.61</td>\n",
       "      <td>Mali</td>\n",
       "      <td>17850</td>\n",
       "      <td>2010-12</td>\n",
       "      <td>1862.95</td>\n",
       "    </tr>\n",
       "    <tr>\n",
       "      <th>2</th>\n",
       "      <td>536365</td>\n",
       "      <td>2010-12-01 08:26:00</td>\n",
       "      <td>17850.0</td>\n",
       "      <td>SC3463</td>\n",
       "      <td>Books</td>\n",
       "      <td>78</td>\n",
       "      <td>61.49</td>\n",
       "      <td>Mali</td>\n",
       "      <td>17850</td>\n",
       "      <td>2010-12</td>\n",
       "      <td>4796.22</td>\n",
       "    </tr>\n",
       "    <tr>\n",
       "      <th>3</th>\n",
       "      <td>536365</td>\n",
       "      <td>2010-12-01 08:26:00</td>\n",
       "      <td>17850.0</td>\n",
       "      <td>SC6228</td>\n",
       "      <td>Toys</td>\n",
       "      <td>15</td>\n",
       "      <td>24.73</td>\n",
       "      <td>South Africa</td>\n",
       "      <td>17850</td>\n",
       "      <td>2010-12</td>\n",
       "      <td>370.95</td>\n",
       "    </tr>\n",
       "    <tr>\n",
       "      <th>4</th>\n",
       "      <td>536365</td>\n",
       "      <td>2010-12-01 08:26:00</td>\n",
       "      <td>17850.0</td>\n",
       "      <td>SC2149</td>\n",
       "      <td>Toys</td>\n",
       "      <td>50</td>\n",
       "      <td>38.83</td>\n",
       "      <td>Rwanda</td>\n",
       "      <td>17850</td>\n",
       "      <td>2010-12</td>\n",
       "      <td>1941.50</td>\n",
       "    </tr>\n",
       "  </tbody>\n",
       "</table>\n",
       "</div>"
      ],
      "text/plain": [
       "  InvoiceNo         InvoiceDate  CustomerID StockCode  Description  Quantity  \\\n",
       "0    536365 2010-12-01 08:26:00     17850.0    SC1734  Electronics        65   \n",
       "1    536365 2010-12-01 08:26:00     17850.0    SC2088    Furniture        95   \n",
       "2    536365 2010-12-01 08:26:00     17850.0    SC3463        Books        78   \n",
       "3    536365 2010-12-01 08:26:00     17850.0    SC6228         Toys        15   \n",
       "4    536365 2010-12-01 08:26:00     17850.0    SC2149         Toys        50   \n",
       "\n",
       "   UnitPrice       Country customerID InvoiceMonth  Revenue  \n",
       "0      10.23         Egypt      17850      2010-12   664.95  \n",
       "1      19.61          Mali      17850      2010-12  1862.95  \n",
       "2      61.49          Mali      17850      2010-12  4796.22  \n",
       "3      24.73  South Africa      17850      2010-12   370.95  \n",
       "4      38.83        Rwanda      17850      2010-12  1941.50  "
      ]
     },
     "execution_count": 24,
     "metadata": {},
     "output_type": "execute_result"
    }
   ],
   "source": [
    "df.head()"
   ]
  },
  {
   "cell_type": "code",
   "execution_count": 25,
   "id": "62d57cf7",
   "metadata": {},
   "outputs": [],
   "source": [
    "monthly_sales = df.groupby('InvoiceMonth')['Revenue'].sum().reset_index()"
   ]
  },
  {
   "cell_type": "code",
   "execution_count": 26,
   "id": "2e527e6a",
   "metadata": {},
   "outputs": [],
   "source": [
    "monthly_sales['InvoiceMonth']= monthly_sales['InvoiceMonth'].astype(str)"
   ]
  },
  {
   "cell_type": "code",
   "execution_count": 27,
   "id": "6c101de2",
   "metadata": {},
   "outputs": [
    {
     "data": {
      "image/png": "[encoded data removed]",
      "text/plain": [
       "<Figure size 500x300 with 1 Axes>"
      ]
     },
     "metadata": {},
     "output_type": "display_data"
    }
   ],
   "source": [
    "plt.figure(figsize=(5, 3))\n",
    "sns.lineplot(x='InvoiceMonth', y='Revenue', data=monthly_sales, marker='o', color='brown')\n",
    "plt.title('Monthly Revenue Trend')\n",
    "plt.xlabel('Month')\n",
    "plt.ylabel('Revenue')\n",
    "plt.xticks(rotation=50)\n",
    "plt.show()"
   ]
  },
  {
   "cell_type": "markdown",
   "id": "f06fd3c7",
   "metadata": {},
   "source": [
    "#cohort Analysis"
   ]
  },
  {
   "cell_type": "code",
   "execution_count": 28,
   "id": "99b809a0",
   "metadata": {},
   "outputs": [],
   "source": [
    "cohort_data = df.groupby('CustomerID')['InvoiceMonth'].min()"
   ]
  },
  {
   "cell_type": "code",
   "execution_count": 29,
   "id": "98409b10",
   "metadata": {},
   "outputs": [],
   "source": [
    "cohort_data.name = 'CohortMonth'"
   ]
  },
  {
   "cell_type": "code",
   "execution_count": 30,
   "id": "c5cd4b6f",
   "metadata": {},
   "outputs": [
    {
     "data": {
      "text/plain": [
       "CustomerID\n",
       "12346.0    2011-01\n",
       "12347.0    2010-12\n",
       "12348.0    2010-12\n",
       "12349.0    2011-11\n",
       "12350.0    2011-02\n",
       "            ...   \n",
       "18280.0    2011-03\n",
       "18281.0    2011-06\n",
       "18282.0    2011-08\n",
       "18283.0    2011-01\n",
       "18287.0    2011-05\n",
       "Name: CohortMonth, Length: 4372, dtype: period[M]"
      ]
     },
     "execution_count": 30,
     "metadata": {},
     "output_type": "execute_result"
    }
   ],
   "source": [
    "cohort_data"
   ]
  },
  {
   "cell_type": "code",
   "execution_count": 31,
   "id": "96d9e05d",
   "metadata": {},
   "outputs": [],
   "source": [
    "df = df.merge(cohort_data, on='CustomerID')"
   ]
  },
  {
   "cell_type": "code",
   "execution_count": 32,
   "id": "14ac891b",
   "metadata": {},
   "outputs": [
    {
     "data": {
      "text/html": [
       "<div>\n",
       "<style scoped>\n",
       "    .dataframe tbody tr th:only-of-type {\n",
       "        vertical-align: middle;\n",
       "    }\n",
       "\n",
       "    .dataframe tbody tr th {\n",
       "        vertical-align: top;\n",
       "    }\n",
       "\n",
       "    .dataframe thead th {\n",
       "        text-align: right;\n",
       "    }\n",
       "</style>\n",
       "<table border=\"1\" class=\"dataframe\">\n",
       "  <thead>\n",
       "    <tr style=\"text-align: right;\">\n",
       "      <th></th>\n",
       "      <th>InvoiceNo</th>\n",
       "      <th>InvoiceDate</th>\n",
       "      <th>CustomerID</th>\n",
       "      <th>StockCode</th>\n",
       "      <th>Description</th>\n",
       "      <th>Quantity</th>\n",
       "      <th>UnitPrice</th>\n",
       "      <th>Country</th>\n",
       "      <th>customerID</th>\n",
       "      <th>InvoiceMonth</th>\n",
       "      <th>Revenue</th>\n",
       "      <th>CohortMonth</th>\n",
       "    </tr>\n",
       "  </thead>\n",
       "  <tbody>\n",
       "    <tr>\n",
       "      <th>0</th>\n",
       "      <td>536365</td>\n",
       "      <td>2010-12-01 08:26:00</td>\n",
       "      <td>17850.0</td>\n",
       "      <td>SC1734</td>\n",
       "      <td>Electronics</td>\n",
       "      <td>65</td>\n",
       "      <td>10.23</td>\n",
       "      <td>Egypt</td>\n",
       "      <td>17850</td>\n",
       "      <td>2010-12</td>\n",
       "      <td>664.95</td>\n",
       "      <td>2010-12</td>\n",
       "    </tr>\n",
       "    <tr>\n",
       "      <th>1</th>\n",
       "      <td>536365</td>\n",
       "      <td>2010-12-01 08:26:00</td>\n",
       "      <td>17850.0</td>\n",
       "      <td>SC2088</td>\n",
       "      <td>Furniture</td>\n",
       "      <td>95</td>\n",
       "      <td>19.61</td>\n",
       "      <td>Mali</td>\n",
       "      <td>17850</td>\n",
       "      <td>2010-12</td>\n",
       "      <td>1862.95</td>\n",
       "      <td>2010-12</td>\n",
       "    </tr>\n",
       "    <tr>\n",
       "      <th>2</th>\n",
       "      <td>536365</td>\n",
       "      <td>2010-12-01 08:26:00</td>\n",
       "      <td>17850.0</td>\n",
       "      <td>SC3463</td>\n",
       "      <td>Books</td>\n",
       "      <td>78</td>\n",
       "      <td>61.49</td>\n",
       "      <td>Mali</td>\n",
       "      <td>17850</td>\n",
       "      <td>2010-12</td>\n",
       "      <td>4796.22</td>\n",
       "      <td>2010-12</td>\n",
       "    </tr>\n",
       "    <tr>\n",
       "      <th>3</th>\n",
       "      <td>536365</td>\n",
       "      <td>2010-12-01 08:26:00</td>\n",
       "      <td>17850.0</td>\n",
       "      <td>SC6228</td>\n",
       "      <td>Toys</td>\n",
       "      <td>15</td>\n",
       "      <td>24.73</td>\n",
       "      <td>South Africa</td>\n",
       "      <td>17850</td>\n",
       "      <td>2010-12</td>\n",
       "      <td>370.95</td>\n",
       "      <td>2010-12</td>\n",
       "    </tr>\n",
       "    <tr>\n",
       "      <th>4</th>\n",
       "      <td>536365</td>\n",
       "      <td>2010-12-01 08:26:00</td>\n",
       "      <td>17850.0</td>\n",
       "      <td>SC2149</td>\n",
       "      <td>Toys</td>\n",
       "      <td>50</td>\n",
       "      <td>38.83</td>\n",
       "      <td>Rwanda</td>\n",
       "      <td>17850</td>\n",
       "      <td>2010-12</td>\n",
       "      <td>1941.50</td>\n",
       "      <td>2010-12</td>\n",
       "    </tr>\n",
       "  </tbody>\n",
       "</table>\n",
       "</div>"
      ],
      "text/plain": [
       "  InvoiceNo         InvoiceDate  CustomerID StockCode  Description  Quantity  \\\n",
       "0    536365 2010-12-01 08:26:00     17850.0    SC1734  Electronics        65   \n",
       "1    536365 2010-12-01 08:26:00     17850.0    SC2088    Furniture        95   \n",
       "2    536365 2010-12-01 08:26:00     17850.0    SC3463        Books        78   \n",
       "3    536365 2010-12-01 08:26:00     17850.0    SC6228         Toys        15   \n",
       "4    536365 2010-12-01 08:26:00     17850.0    SC2149         Toys        50   \n",
       "\n",
       "   UnitPrice       Country customerID InvoiceMonth  Revenue CohortMonth  \n",
       "0      10.23         Egypt      17850      2010-12   664.95     2010-12  \n",
       "1      19.61          Mali      17850      2010-12  1862.95     2010-12  \n",
       "2      61.49          Mali      17850      2010-12  4796.22     2010-12  \n",
       "3      24.73  South Africa      17850      2010-12   370.95     2010-12  \n",
       "4      38.83        Rwanda      17850      2010-12  1941.50     2010-12  "
      ]
     },
     "execution_count": 32,
     "metadata": {},
     "output_type": "execute_result"
    }
   ],
   "source": [
    "df.head()"
   ]
  },
  {
   "cell_type": "code",
   "execution_count": 33,
   "id": "0b1fb31e",
   "metadata": {
    "scrolled": true
   },
   "outputs": [],
   "source": [
    "invoice_year, invoice_month = df['InvoiceMonth'].dt.year, df['InvoiceMonth'].dt.month\n",
    "cohort_year, cohort_month = df['CohortMonth'].dt.year, df['CohortMonth'].dt.month"
   ]
  },
  {
   "cell_type": "code",
   "execution_count": 34,
   "id": "61db317b",
   "metadata": {},
   "outputs": [],
   "source": [
    "year_diff = invoice_year - cohort_year\n",
    "month_diff = invoice_month - cohort_month"
   ]
  },
  {
   "cell_type": "code",
   "execution_count": 35,
   "id": "91731e76",
   "metadata": {},
   "outputs": [],
   "source": [
    "df['CohortIndex'] = year_diff * 12 +month_diff + 1"
   ]
  },
  {
   "cell_type": "code",
   "execution_count": 36,
   "id": "da14da68",
   "metadata": {},
   "outputs": [
    {
     "data": {
      "text/html": [
       "<div>\n",
       "<style scoped>\n",
       "    .dataframe tbody tr th:only-of-type {\n",
       "        vertical-align: middle;\n",
       "    }\n",
       "\n",
       "    .dataframe tbody tr th {\n",
       "        vertical-align: top;\n",
       "    }\n",
       "\n",
       "    .dataframe thead th {\n",
       "        text-align: right;\n",
       "    }\n",
       "</style>\n",
       "<table border=\"1\" class=\"dataframe\">\n",
       "  <thead>\n",
       "    <tr style=\"text-align: right;\">\n",
       "      <th></th>\n",
       "      <th>InvoiceNo</th>\n",
       "      <th>InvoiceDate</th>\n",
       "      <th>CustomerID</th>\n",
       "      <th>StockCode</th>\n",
       "      <th>Description</th>\n",
       "      <th>Quantity</th>\n",
       "      <th>UnitPrice</th>\n",
       "      <th>Country</th>\n",
       "      <th>customerID</th>\n",
       "      <th>InvoiceMonth</th>\n",
       "      <th>Revenue</th>\n",
       "      <th>CohortMonth</th>\n",
       "      <th>CohortIndex</th>\n",
       "    </tr>\n",
       "  </thead>\n",
       "  <tbody>\n",
       "    <tr>\n",
       "      <th>406824</th>\n",
       "      <td>581578</td>\n",
       "      <td>2011-12-09 12:16:00</td>\n",
       "      <td>12713.0</td>\n",
       "      <td>SC2548</td>\n",
       "      <td>Toys</td>\n",
       "      <td>13</td>\n",
       "      <td>38.60</td>\n",
       "      <td>Ghana</td>\n",
       "      <td>12713</td>\n",
       "      <td>2011-12</td>\n",
       "      <td>501.80</td>\n",
       "      <td>2011-12</td>\n",
       "      <td>1</td>\n",
       "    </tr>\n",
       "    <tr>\n",
       "      <th>406825</th>\n",
       "      <td>581578</td>\n",
       "      <td>2011-12-09 12:16:00</td>\n",
       "      <td>12713.0</td>\n",
       "      <td>SC8736</td>\n",
       "      <td>Cosmetics</td>\n",
       "      <td>44</td>\n",
       "      <td>19.59</td>\n",
       "      <td>Libya</td>\n",
       "      <td>12713</td>\n",
       "      <td>2011-12</td>\n",
       "      <td>861.96</td>\n",
       "      <td>2011-12</td>\n",
       "      <td>1</td>\n",
       "    </tr>\n",
       "    <tr>\n",
       "      <th>406826</th>\n",
       "      <td>581578</td>\n",
       "      <td>2011-12-09 12:16:00</td>\n",
       "      <td>12713.0</td>\n",
       "      <td>SC5158</td>\n",
       "      <td>Books</td>\n",
       "      <td>90</td>\n",
       "      <td>44.22</td>\n",
       "      <td>Morocco</td>\n",
       "      <td>12713</td>\n",
       "      <td>2011-12</td>\n",
       "      <td>3979.80</td>\n",
       "      <td>2011-12</td>\n",
       "      <td>1</td>\n",
       "    </tr>\n",
       "    <tr>\n",
       "      <th>406827</th>\n",
       "      <td>581578</td>\n",
       "      <td>2011-12-09 12:16:00</td>\n",
       "      <td>12713.0</td>\n",
       "      <td>SC9010</td>\n",
       "      <td>Sports Equipment</td>\n",
       "      <td>20</td>\n",
       "      <td>92.38</td>\n",
       "      <td>Mali</td>\n",
       "      <td>12713</td>\n",
       "      <td>2011-12</td>\n",
       "      <td>1847.60</td>\n",
       "      <td>2011-12</td>\n",
       "      <td>1</td>\n",
       "    </tr>\n",
       "    <tr>\n",
       "      <th>406828</th>\n",
       "      <td>581578</td>\n",
       "      <td>2011-12-09 12:16:00</td>\n",
       "      <td>12713.0</td>\n",
       "      <td>SC5695</td>\n",
       "      <td>Sports Equipment</td>\n",
       "      <td>1</td>\n",
       "      <td>19.42</td>\n",
       "      <td>Niger</td>\n",
       "      <td>12713</td>\n",
       "      <td>2011-12</td>\n",
       "      <td>19.42</td>\n",
       "      <td>2011-12</td>\n",
       "      <td>1</td>\n",
       "    </tr>\n",
       "  </tbody>\n",
       "</table>\n",
       "</div>"
      ],
      "text/plain": [
       "       InvoiceNo         InvoiceDate  CustomerID StockCode       Description  \\\n",
       "406824    581578 2011-12-09 12:16:00     12713.0    SC2548              Toys   \n",
       "406825    581578 2011-12-09 12:16:00     12713.0    SC8736         Cosmetics   \n",
       "406826    581578 2011-12-09 12:16:00     12713.0    SC5158             Books   \n",
       "406827    581578 2011-12-09 12:16:00     12713.0    SC9010  Sports Equipment   \n",
       "406828    581578 2011-12-09 12:16:00     12713.0    SC5695  Sports Equipment   \n",
       "\n",
       "        Quantity  UnitPrice  Country customerID InvoiceMonth  Revenue  \\\n",
       "406824        13      38.60    Ghana      12713      2011-12   501.80   \n",
       "406825        44      19.59    Libya      12713      2011-12   861.96   \n",
       "406826        90      44.22  Morocco      12713      2011-12  3979.80   \n",
       "406827        20      92.38     Mali      12713      2011-12  1847.60   \n",
       "406828         1      19.42    Niger      12713      2011-12    19.42   \n",
       "\n",
       "       CohortMonth  CohortIndex  \n",
       "406824     2011-12            1  \n",
       "406825     2011-12            1  \n",
       "406826     2011-12            1  \n",
       "406827     2011-12            1  \n",
       "406828     2011-12            1  "
      ]
     },
     "execution_count": 36,
     "metadata": {},
     "output_type": "execute_result"
    }
   ],
   "source": [
    "df.tail()"
   ]
  },
  {
   "cell_type": "code",
   "execution_count": 37,
   "id": "59a9e07a",
   "metadata": {},
   "outputs": [],
   "source": [
    "cohort_counts = df.groupby(['CohortMonth', 'CohortIndex'])['CustomerID'].nunique().reset_index()"
   ]
  },
  {
   "cell_type": "code",
   "execution_count": 38,
   "id": "b9b999f2",
   "metadata": {},
   "outputs": [],
   "source": [
    "cohort_pivot = cohort_counts.pivot(index='CohortMonth', columns= 'CohortIndex', values='CustomerID')"
   ]
  },
  {
   "cell_type": "code",
   "execution_count": 39,
   "id": "cf07078c",
   "metadata": {},
   "outputs": [
    {
     "data": {
      "text/html": [
       "<div>\n",
       "<style scoped>\n",
       "    .dataframe tbody tr th:only-of-type {\n",
       "        vertical-align: middle;\n",
       "    }\n",
       "\n",
       "    .dataframe tbody tr th {\n",
       "        vertical-align: top;\n",
       "    }\n",
       "\n",
       "    .dataframe thead th {\n",
       "        text-align: right;\n",
       "    }\n",
       "</style>\n",
       "<table border=\"1\" class=\"dataframe\">\n",
       "  <thead>\n",
       "    <tr style=\"text-align: right;\">\n",
       "      <th>CohortIndex</th>\n",
       "      <th>1</th>\n",
       "      <th>2</th>\n",
       "      <th>3</th>\n",
       "      <th>4</th>\n",
       "      <th>5</th>\n",
       "      <th>6</th>\n",
       "      <th>7</th>\n",
       "      <th>8</th>\n",
       "      <th>9</th>\n",
       "      <th>10</th>\n",
       "      <th>11</th>\n",
       "      <th>12</th>\n",
       "      <th>13</th>\n",
       "    </tr>\n",
       "    <tr>\n",
       "      <th>CohortMonth</th>\n",
       "      <th></th>\n",
       "      <th></th>\n",
       "      <th></th>\n",
       "      <th></th>\n",
       "      <th></th>\n",
       "      <th></th>\n",
       "      <th></th>\n",
       "      <th></th>\n",
       "      <th></th>\n",
       "      <th></th>\n",
       "      <th></th>\n",
       "      <th></th>\n",
       "      <th></th>\n",
       "    </tr>\n",
       "  </thead>\n",
       "  <tbody>\n",
       "    <tr>\n",
       "      <th>2010-12</th>\n",
       "      <td>948.0</td>\n",
       "      <td>362.0</td>\n",
       "      <td>317.0</td>\n",
       "      <td>367.0</td>\n",
       "      <td>341.0</td>\n",
       "      <td>376.0</td>\n",
       "      <td>360.0</td>\n",
       "      <td>336.0</td>\n",
       "      <td>336.0</td>\n",
       "      <td>374.0</td>\n",
       "      <td>354.0</td>\n",
       "      <td>474.0</td>\n",
       "      <td>260.0</td>\n",
       "    </tr>\n",
       "    <tr>\n",
       "      <th>2011-01</th>\n",
       "      <td>421.0</td>\n",
       "      <td>101.0</td>\n",
       "      <td>119.0</td>\n",
       "      <td>102.0</td>\n",
       "      <td>138.0</td>\n",
       "      <td>126.0</td>\n",
       "      <td>110.0</td>\n",
       "      <td>108.0</td>\n",
       "      <td>131.0</td>\n",
       "      <td>146.0</td>\n",
       "      <td>155.0</td>\n",
       "      <td>63.0</td>\n",
       "      <td>NaN</td>\n",
       "    </tr>\n",
       "    <tr>\n",
       "      <th>2011-02</th>\n",
       "      <td>380.0</td>\n",
       "      <td>94.0</td>\n",
       "      <td>73.0</td>\n",
       "      <td>106.0</td>\n",
       "      <td>102.0</td>\n",
       "      <td>94.0</td>\n",
       "      <td>97.0</td>\n",
       "      <td>107.0</td>\n",
       "      <td>98.0</td>\n",
       "      <td>119.0</td>\n",
       "      <td>35.0</td>\n",
       "      <td>NaN</td>\n",
       "      <td>NaN</td>\n",
       "    </tr>\n",
       "    <tr>\n",
       "      <th>2011-03</th>\n",
       "      <td>440.0</td>\n",
       "      <td>84.0</td>\n",
       "      <td>112.0</td>\n",
       "      <td>96.0</td>\n",
       "      <td>102.0</td>\n",
       "      <td>78.0</td>\n",
       "      <td>116.0</td>\n",
       "      <td>105.0</td>\n",
       "      <td>127.0</td>\n",
       "      <td>39.0</td>\n",
       "      <td>NaN</td>\n",
       "      <td>NaN</td>\n",
       "      <td>NaN</td>\n",
       "    </tr>\n",
       "    <tr>\n",
       "      <th>2011-04</th>\n",
       "      <td>299.0</td>\n",
       "      <td>68.0</td>\n",
       "      <td>66.0</td>\n",
       "      <td>63.0</td>\n",
       "      <td>62.0</td>\n",
       "      <td>71.0</td>\n",
       "      <td>69.0</td>\n",
       "      <td>78.0</td>\n",
       "      <td>25.0</td>\n",
       "      <td>NaN</td>\n",
       "      <td>NaN</td>\n",
       "      <td>NaN</td>\n",
       "      <td>NaN</td>\n",
       "    </tr>\n",
       "    <tr>\n",
       "      <th>2011-05</th>\n",
       "      <td>279.0</td>\n",
       "      <td>66.0</td>\n",
       "      <td>48.0</td>\n",
       "      <td>48.0</td>\n",
       "      <td>60.0</td>\n",
       "      <td>68.0</td>\n",
       "      <td>74.0</td>\n",
       "      <td>29.0</td>\n",
       "      <td>NaN</td>\n",
       "      <td>NaN</td>\n",
       "      <td>NaN</td>\n",
       "      <td>NaN</td>\n",
       "      <td>NaN</td>\n",
       "    </tr>\n",
       "    <tr>\n",
       "      <th>2011-06</th>\n",
       "      <td>235.0</td>\n",
       "      <td>49.0</td>\n",
       "      <td>44.0</td>\n",
       "      <td>64.0</td>\n",
       "      <td>58.0</td>\n",
       "      <td>79.0</td>\n",
       "      <td>24.0</td>\n",
       "      <td>NaN</td>\n",
       "      <td>NaN</td>\n",
       "      <td>NaN</td>\n",
       "      <td>NaN</td>\n",
       "      <td>NaN</td>\n",
       "      <td>NaN</td>\n",
       "    </tr>\n",
       "    <tr>\n",
       "      <th>2011-07</th>\n",
       "      <td>191.0</td>\n",
       "      <td>40.0</td>\n",
       "      <td>39.0</td>\n",
       "      <td>44.0</td>\n",
       "      <td>52.0</td>\n",
       "      <td>22.0</td>\n",
       "      <td>NaN</td>\n",
       "      <td>NaN</td>\n",
       "      <td>NaN</td>\n",
       "      <td>NaN</td>\n",
       "      <td>NaN</td>\n",
       "      <td>NaN</td>\n",
       "      <td>NaN</td>\n",
       "    </tr>\n",
       "    <tr>\n",
       "      <th>2011-08</th>\n",
       "      <td>167.0</td>\n",
       "      <td>42.0</td>\n",
       "      <td>42.0</td>\n",
       "      <td>42.0</td>\n",
       "      <td>23.0</td>\n",
       "      <td>NaN</td>\n",
       "      <td>NaN</td>\n",
       "      <td>NaN</td>\n",
       "      <td>NaN</td>\n",
       "      <td>NaN</td>\n",
       "      <td>NaN</td>\n",
       "      <td>NaN</td>\n",
       "      <td>NaN</td>\n",
       "    </tr>\n",
       "    <tr>\n",
       "      <th>2011-09</th>\n",
       "      <td>298.0</td>\n",
       "      <td>89.0</td>\n",
       "      <td>97.0</td>\n",
       "      <td>36.0</td>\n",
       "      <td>NaN</td>\n",
       "      <td>NaN</td>\n",
       "      <td>NaN</td>\n",
       "      <td>NaN</td>\n",
       "      <td>NaN</td>\n",
       "      <td>NaN</td>\n",
       "      <td>NaN</td>\n",
       "      <td>NaN</td>\n",
       "      <td>NaN</td>\n",
       "    </tr>\n",
       "    <tr>\n",
       "      <th>2011-10</th>\n",
       "      <td>352.0</td>\n",
       "      <td>93.0</td>\n",
       "      <td>46.0</td>\n",
       "      <td>NaN</td>\n",
       "      <td>NaN</td>\n",
       "      <td>NaN</td>\n",
       "      <td>NaN</td>\n",
       "      <td>NaN</td>\n",
       "      <td>NaN</td>\n",
       "      <td>NaN</td>\n",
       "      <td>NaN</td>\n",
       "      <td>NaN</td>\n",
       "      <td>NaN</td>\n",
       "    </tr>\n",
       "    <tr>\n",
       "      <th>2011-11</th>\n",
       "      <td>321.0</td>\n",
       "      <td>43.0</td>\n",
       "      <td>NaN</td>\n",
       "      <td>NaN</td>\n",
       "      <td>NaN</td>\n",
       "      <td>NaN</td>\n",
       "      <td>NaN</td>\n",
       "      <td>NaN</td>\n",
       "      <td>NaN</td>\n",
       "      <td>NaN</td>\n",
       "      <td>NaN</td>\n",
       "      <td>NaN</td>\n",
       "      <td>NaN</td>\n",
       "    </tr>\n",
       "    <tr>\n",
       "      <th>2011-12</th>\n",
       "      <td>41.0</td>\n",
       "      <td>NaN</td>\n",
       "      <td>NaN</td>\n",
       "      <td>NaN</td>\n",
       "      <td>NaN</td>\n",
       "      <td>NaN</td>\n",
       "      <td>NaN</td>\n",
       "      <td>NaN</td>\n",
       "      <td>NaN</td>\n",
       "      <td>NaN</td>\n",
       "      <td>NaN</td>\n",
       "      <td>NaN</td>\n",
       "      <td>NaN</td>\n",
       "    </tr>\n",
       "  </tbody>\n",
       "</table>\n",
       "</div>"
      ],
      "text/plain": [
       "CohortIndex     1      2      3      4      5      6      7      8      9   \\\n",
       "CohortMonth                                                                  \n",
       "2010-12      948.0  362.0  317.0  367.0  341.0  376.0  360.0  336.0  336.0   \n",
       "2011-01      421.0  101.0  119.0  102.0  138.0  126.0  110.0  108.0  131.0   \n",
       "2011-02      380.0   94.0   73.0  106.0  102.0   94.0   97.0  107.0   98.0   \n",
       "2011-03      440.0   84.0  112.0   96.0  102.0   78.0  116.0  105.0  127.0   \n",
       "2011-04      299.0   68.0   66.0   63.0   62.0   71.0   69.0   78.0   25.0   \n",
       "2011-05      279.0   66.0   48.0   48.0   60.0   68.0   74.0   29.0    NaN   \n",
       "2011-06      235.0   49.0   44.0   64.0   58.0   79.0   24.0    NaN    NaN   \n",
       "2011-07      191.0   40.0   39.0   44.0   52.0   22.0    NaN    NaN    NaN   \n",
       "2011-08      167.0   42.0   42.0   42.0   23.0    NaN    NaN    NaN    NaN   \n",
       "2011-09      298.0   89.0   97.0   36.0    NaN    NaN    NaN    NaN    NaN   \n",
       "2011-10      352.0   93.0   46.0    NaN    NaN    NaN    NaN    NaN    NaN   \n",
       "2011-11      321.0   43.0    NaN    NaN    NaN    NaN    NaN    NaN    NaN   \n",
       "2011-12       41.0    NaN    NaN    NaN    NaN    NaN    NaN    NaN    NaN   \n",
       "\n",
       "CohortIndex     10     11     12     13  \n",
       "CohortMonth                              \n",
       "2010-12      374.0  354.0  474.0  260.0  \n",
       "2011-01      146.0  155.0   63.0    NaN  \n",
       "2011-02      119.0   35.0    NaN    NaN  \n",
       "2011-03       39.0    NaN    NaN    NaN  \n",
       "2011-04        NaN    NaN    NaN    NaN  \n",
       "2011-05        NaN    NaN    NaN    NaN  \n",
       "2011-06        NaN    NaN    NaN    NaN  \n",
       "2011-07        NaN    NaN    NaN    NaN  \n",
       "2011-08        NaN    NaN    NaN    NaN  \n",
       "2011-09        NaN    NaN    NaN    NaN  \n",
       "2011-10        NaN    NaN    NaN    NaN  \n",
       "2011-11        NaN    NaN    NaN    NaN  \n",
       "2011-12        NaN    NaN    NaN    NaN  "
      ]
     },
     "execution_count": 39,
     "metadata": {},
     "output_type": "execute_result"
    }
   ],
   "source": [
    "cohort_pivot"
   ]
  },
  {
   "cell_type": "code",
   "execution_count": 40,
   "id": "2ae85ec0",
   "metadata": {},
   "outputs": [],
   "source": [
    "#Retention"
   ]
  },
  {
   "cell_type": "code",
   "execution_count": 41,
   "id": "5d40a8d3",
   "metadata": {},
   "outputs": [
    {
     "data": {
      "text/html": [
       "<div>\n",
       "<style scoped>\n",
       "    .dataframe tbody tr th:only-of-type {\n",
       "        vertical-align: middle;\n",
       "    }\n",
       "\n",
       "    .dataframe tbody tr th {\n",
       "        vertical-align: top;\n",
       "    }\n",
       "\n",
       "    .dataframe thead th {\n",
       "        text-align: right;\n",
       "    }\n",
       "</style>\n",
       "<table border=\"1\" class=\"dataframe\">\n",
       "  <thead>\n",
       "    <tr style=\"text-align: right;\">\n",
       "      <th>CohortIndex</th>\n",
       "      <th>1</th>\n",
       "      <th>2</th>\n",
       "      <th>3</th>\n",
       "      <th>4</th>\n",
       "      <th>5</th>\n",
       "      <th>6</th>\n",
       "      <th>7</th>\n",
       "      <th>8</th>\n",
       "      <th>9</th>\n",
       "      <th>10</th>\n",
       "      <th>11</th>\n",
       "      <th>12</th>\n",
       "      <th>13</th>\n",
       "    </tr>\n",
       "    <tr>\n",
       "      <th>CohortMonth</th>\n",
       "      <th></th>\n",
       "      <th></th>\n",
       "      <th></th>\n",
       "      <th></th>\n",
       "      <th></th>\n",
       "      <th></th>\n",
       "      <th></th>\n",
       "      <th></th>\n",
       "      <th></th>\n",
       "      <th></th>\n",
       "      <th></th>\n",
       "      <th></th>\n",
       "      <th></th>\n",
       "    </tr>\n",
       "  </thead>\n",
       "  <tbody>\n",
       "    <tr>\n",
       "      <th>2010-12</th>\n",
       "      <td>1.0</td>\n",
       "      <td>0.382</td>\n",
       "      <td>0.334</td>\n",
       "      <td>0.387</td>\n",
       "      <td>0.360</td>\n",
       "      <td>0.397</td>\n",
       "      <td>0.380</td>\n",
       "      <td>0.354</td>\n",
       "      <td>0.354</td>\n",
       "      <td>0.395</td>\n",
       "      <td>0.373</td>\n",
       "      <td>0.50</td>\n",
       "      <td>0.274</td>\n",
       "    </tr>\n",
       "    <tr>\n",
       "      <th>2011-01</th>\n",
       "      <td>1.0</td>\n",
       "      <td>0.240</td>\n",
       "      <td>0.283</td>\n",
       "      <td>0.242</td>\n",
       "      <td>0.328</td>\n",
       "      <td>0.299</td>\n",
       "      <td>0.261</td>\n",
       "      <td>0.257</td>\n",
       "      <td>0.311</td>\n",
       "      <td>0.347</td>\n",
       "      <td>0.368</td>\n",
       "      <td>0.15</td>\n",
       "      <td>NaN</td>\n",
       "    </tr>\n",
       "    <tr>\n",
       "      <th>2011-02</th>\n",
       "      <td>1.0</td>\n",
       "      <td>0.247</td>\n",
       "      <td>0.192</td>\n",
       "      <td>0.279</td>\n",
       "      <td>0.268</td>\n",
       "      <td>0.247</td>\n",
       "      <td>0.255</td>\n",
       "      <td>0.282</td>\n",
       "      <td>0.258</td>\n",
       "      <td>0.313</td>\n",
       "      <td>0.092</td>\n",
       "      <td>NaN</td>\n",
       "      <td>NaN</td>\n",
       "    </tr>\n",
       "    <tr>\n",
       "      <th>2011-03</th>\n",
       "      <td>1.0</td>\n",
       "      <td>0.191</td>\n",
       "      <td>0.255</td>\n",
       "      <td>0.218</td>\n",
       "      <td>0.232</td>\n",
       "      <td>0.177</td>\n",
       "      <td>0.264</td>\n",
       "      <td>0.239</td>\n",
       "      <td>0.289</td>\n",
       "      <td>0.089</td>\n",
       "      <td>NaN</td>\n",
       "      <td>NaN</td>\n",
       "      <td>NaN</td>\n",
       "    </tr>\n",
       "    <tr>\n",
       "      <th>2011-04</th>\n",
       "      <td>1.0</td>\n",
       "      <td>0.227</td>\n",
       "      <td>0.221</td>\n",
       "      <td>0.211</td>\n",
       "      <td>0.207</td>\n",
       "      <td>0.237</td>\n",
       "      <td>0.231</td>\n",
       "      <td>0.261</td>\n",
       "      <td>0.084</td>\n",
       "      <td>NaN</td>\n",
       "      <td>NaN</td>\n",
       "      <td>NaN</td>\n",
       "      <td>NaN</td>\n",
       "    </tr>\n",
       "    <tr>\n",
       "      <th>2011-05</th>\n",
       "      <td>1.0</td>\n",
       "      <td>0.237</td>\n",
       "      <td>0.172</td>\n",
       "      <td>0.172</td>\n",
       "      <td>0.215</td>\n",
       "      <td>0.244</td>\n",
       "      <td>0.265</td>\n",
       "      <td>0.104</td>\n",
       "      <td>NaN</td>\n",
       "      <td>NaN</td>\n",
       "      <td>NaN</td>\n",
       "      <td>NaN</td>\n",
       "      <td>NaN</td>\n",
       "    </tr>\n",
       "    <tr>\n",
       "      <th>2011-06</th>\n",
       "      <td>1.0</td>\n",
       "      <td>0.209</td>\n",
       "      <td>0.187</td>\n",
       "      <td>0.272</td>\n",
       "      <td>0.247</td>\n",
       "      <td>0.336</td>\n",
       "      <td>0.102</td>\n",
       "      <td>NaN</td>\n",
       "      <td>NaN</td>\n",
       "      <td>NaN</td>\n",
       "      <td>NaN</td>\n",
       "      <td>NaN</td>\n",
       "      <td>NaN</td>\n",
       "    </tr>\n",
       "    <tr>\n",
       "      <th>2011-07</th>\n",
       "      <td>1.0</td>\n",
       "      <td>0.209</td>\n",
       "      <td>0.204</td>\n",
       "      <td>0.230</td>\n",
       "      <td>0.272</td>\n",
       "      <td>0.115</td>\n",
       "      <td>NaN</td>\n",
       "      <td>NaN</td>\n",
       "      <td>NaN</td>\n",
       "      <td>NaN</td>\n",
       "      <td>NaN</td>\n",
       "      <td>NaN</td>\n",
       "      <td>NaN</td>\n",
       "    </tr>\n",
       "    <tr>\n",
       "      <th>2011-08</th>\n",
       "      <td>1.0</td>\n",
       "      <td>0.251</td>\n",
       "      <td>0.251</td>\n",
       "      <td>0.251</td>\n",
       "      <td>0.138</td>\n",
       "      <td>NaN</td>\n",
       "      <td>NaN</td>\n",
       "      <td>NaN</td>\n",
       "      <td>NaN</td>\n",
       "      <td>NaN</td>\n",
       "      <td>NaN</td>\n",
       "      <td>NaN</td>\n",
       "      <td>NaN</td>\n",
       "    </tr>\n",
       "    <tr>\n",
       "      <th>2011-09</th>\n",
       "      <td>1.0</td>\n",
       "      <td>0.299</td>\n",
       "      <td>0.326</td>\n",
       "      <td>0.121</td>\n",
       "      <td>NaN</td>\n",
       "      <td>NaN</td>\n",
       "      <td>NaN</td>\n",
       "      <td>NaN</td>\n",
       "      <td>NaN</td>\n",
       "      <td>NaN</td>\n",
       "      <td>NaN</td>\n",
       "      <td>NaN</td>\n",
       "      <td>NaN</td>\n",
       "    </tr>\n",
       "    <tr>\n",
       "      <th>2011-10</th>\n",
       "      <td>1.0</td>\n",
       "      <td>0.264</td>\n",
       "      <td>0.131</td>\n",
       "      <td>NaN</td>\n",
       "      <td>NaN</td>\n",
       "      <td>NaN</td>\n",
       "      <td>NaN</td>\n",
       "      <td>NaN</td>\n",
       "      <td>NaN</td>\n",
       "      <td>NaN</td>\n",
       "      <td>NaN</td>\n",
       "      <td>NaN</td>\n",
       "      <td>NaN</td>\n",
       "    </tr>\n",
       "    <tr>\n",
       "      <th>2011-11</th>\n",
       "      <td>1.0</td>\n",
       "      <td>0.134</td>\n",
       "      <td>NaN</td>\n",
       "      <td>NaN</td>\n",
       "      <td>NaN</td>\n",
       "      <td>NaN</td>\n",
       "      <td>NaN</td>\n",
       "      <td>NaN</td>\n",
       "      <td>NaN</td>\n",
       "      <td>NaN</td>\n",
       "      <td>NaN</td>\n",
       "      <td>NaN</td>\n",
       "      <td>NaN</td>\n",
       "    </tr>\n",
       "    <tr>\n",
       "      <th>2011-12</th>\n",
       "      <td>1.0</td>\n",
       "      <td>NaN</td>\n",
       "      <td>NaN</td>\n",
       "      <td>NaN</td>\n",
       "      <td>NaN</td>\n",
       "      <td>NaN</td>\n",
       "      <td>NaN</td>\n",
       "      <td>NaN</td>\n",
       "      <td>NaN</td>\n",
       "      <td>NaN</td>\n",
       "      <td>NaN</td>\n",
       "      <td>NaN</td>\n",
       "      <td>NaN</td>\n",
       "    </tr>\n",
       "  </tbody>\n",
       "</table>\n",
       "</div>"
      ],
      "text/plain": [
       "CohortIndex   1      2      3      4      5      6      7      8      9   \\\n",
       "CohortMonth                                                                \n",
       "2010-12      1.0  0.382  0.334  0.387  0.360  0.397  0.380  0.354  0.354   \n",
       "2011-01      1.0  0.240  0.283  0.242  0.328  0.299  0.261  0.257  0.311   \n",
       "2011-02      1.0  0.247  0.192  0.279  0.268  0.247  0.255  0.282  0.258   \n",
       "2011-03      1.0  0.191  0.255  0.218  0.232  0.177  0.264  0.239  0.289   \n",
       "2011-04      1.0  0.227  0.221  0.211  0.207  0.237  0.231  0.261  0.084   \n",
       "2011-05      1.0  0.237  0.172  0.172  0.215  0.244  0.265  0.104    NaN   \n",
       "2011-06      1.0  0.209  0.187  0.272  0.247  0.336  0.102    NaN    NaN   \n",
       "2011-07      1.0  0.209  0.204  0.230  0.272  0.115    NaN    NaN    NaN   \n",
       "2011-08      1.0  0.251  0.251  0.251  0.138    NaN    NaN    NaN    NaN   \n",
       "2011-09      1.0  0.299  0.326  0.121    NaN    NaN    NaN    NaN    NaN   \n",
       "2011-10      1.0  0.264  0.131    NaN    NaN    NaN    NaN    NaN    NaN   \n",
       "2011-11      1.0  0.134    NaN    NaN    NaN    NaN    NaN    NaN    NaN   \n",
       "2011-12      1.0    NaN    NaN    NaN    NaN    NaN    NaN    NaN    NaN   \n",
       "\n",
       "CohortIndex     10     11    12     13  \n",
       "CohortMonth                             \n",
       "2010-12      0.395  0.373  0.50  0.274  \n",
       "2011-01      0.347  0.368  0.15    NaN  \n",
       "2011-02      0.313  0.092   NaN    NaN  \n",
       "2011-03      0.089    NaN   NaN    NaN  \n",
       "2011-04        NaN    NaN   NaN    NaN  \n",
       "2011-05        NaN    NaN   NaN    NaN  \n",
       "2011-06        NaN    NaN   NaN    NaN  \n",
       "2011-07        NaN    NaN   NaN    NaN  \n",
       "2011-08        NaN    NaN   NaN    NaN  \n",
       "2011-09        NaN    NaN   NaN    NaN  \n",
       "2011-10        NaN    NaN   NaN    NaN  \n",
       "2011-11        NaN    NaN   NaN    NaN  \n",
       "2011-12        NaN    NaN   NaN    NaN  "
      ]
     },
     "execution_count": 41,
     "metadata": {},
     "output_type": "execute_result"
    }
   ],
   "source": [
    "cohort_size = cohort_pivot.iloc[:,0]\n",
    "retention = cohort_pivot.divide(cohort_size, axis=0).round(3)\n",
    "retention"
   ]
  },
  {
   "cell_type": "code",
   "execution_count": 42,
   "id": "4d414c65",
   "metadata": {},
   "outputs": [
    {
     "data": {
      "image/png": "[encoded data removed]",
      "text/plain": [
       "<Figure size 900x300 with 2 Axes>"
      ]
     },
     "metadata": {},
     "output_type": "display_data"
    }
   ],
   "source": [
    "plt.figure(figsize = (9,3))\n",
    "sns.heatmap(retention, annot = True, fmt ='.0%', cmap = 'YlGnBu')\n",
    "plt.title('Retention Rate Heatmap')\n",
    "plt.xlabel('Month since first purchase')\n",
    "plt.ylabel('Cohort Month')\n",
    "plt.show()\n",
    "          "
   ]
  },
  {
   "cell_type": "code",
   "execution_count": 43,
   "id": "b0792a4a",
   "metadata": {},
   "outputs": [
    {
     "data": {
      "text/plain": [
       "Timestamp('2011-12-10 12:50:00')"
      ]
     },
     "execution_count": 43,
     "metadata": {},
     "output_type": "execute_result"
    }
   ],
   "source": [
    "reference_date = df['InvoiceDate'].max() + pd.Timedelta(days=1)\n",
    "reference_date"
   ]
  },
  {
   "cell_type": "code",
   "execution_count": 44,
   "id": "18edea0c",
   "metadata": {},
   "outputs": [],
   "source": [
    "rfm = df.groupby('CustomerID').agg({\n",
    "    'InvoiceDate': lambda x: (reference_date - x.max()).days,\n",
    "    'InvoiceNo': pd.Series.nunique,\n",
    "    'Revenue': 'sum'\n",
    "}).reset_index()\n",
    "    "
   ]
  },
  {
   "cell_type": "code",
   "execution_count": 45,
   "id": "0d6d1743",
   "metadata": {},
   "outputs": [],
   "source": [
    "rfm.columns = ['CustomerID', 'recency_days', 'frequency', 'monetary']\n"
   ]
  },
  {
   "cell_type": "code",
   "execution_count": 46,
   "id": "72dc53ff",
   "metadata": {},
   "outputs": [
    {
     "data": {
      "text/html": [
       "<div>\n",
       "<style scoped>\n",
       "    .dataframe tbody tr th:only-of-type {\n",
       "        vertical-align: middle;\n",
       "    }\n",
       "\n",
       "    .dataframe tbody tr th {\n",
       "        vertical-align: top;\n",
       "    }\n",
       "\n",
       "    .dataframe thead th {\n",
       "        text-align: right;\n",
       "    }\n",
       "</style>\n",
       "<table border=\"1\" class=\"dataframe\">\n",
       "  <thead>\n",
       "    <tr style=\"text-align: right;\">\n",
       "      <th></th>\n",
       "      <th>CustomerID</th>\n",
       "      <th>recency_days</th>\n",
       "      <th>frequency</th>\n",
       "      <th>monetary</th>\n",
       "    </tr>\n",
       "  </thead>\n",
       "  <tbody>\n",
       "    <tr>\n",
       "      <th>0</th>\n",
       "      <td>12346.0</td>\n",
       "      <td>326</td>\n",
       "      <td>2</td>\n",
       "      <td>5342.40</td>\n",
       "    </tr>\n",
       "    <tr>\n",
       "      <th>1</th>\n",
       "      <td>12347.0</td>\n",
       "      <td>2</td>\n",
       "      <td>7</td>\n",
       "      <td>431501.00</td>\n",
       "    </tr>\n",
       "    <tr>\n",
       "      <th>2</th>\n",
       "      <td>12348.0</td>\n",
       "      <td>75</td>\n",
       "      <td>4</td>\n",
       "      <td>82378.47</td>\n",
       "    </tr>\n",
       "    <tr>\n",
       "      <th>3</th>\n",
       "      <td>12349.0</td>\n",
       "      <td>19</td>\n",
       "      <td>1</td>\n",
       "      <td>176075.12</td>\n",
       "    </tr>\n",
       "    <tr>\n",
       "      <th>4</th>\n",
       "      <td>12350.0</td>\n",
       "      <td>310</td>\n",
       "      <td>1</td>\n",
       "      <td>48173.37</td>\n",
       "    </tr>\n",
       "  </tbody>\n",
       "</table>\n",
       "</div>"
      ],
      "text/plain": [
       "   CustomerID  recency_days  frequency   monetary\n",
       "0     12346.0           326          2    5342.40\n",
       "1     12347.0             2          7  431501.00\n",
       "2     12348.0            75          4   82378.47\n",
       "3     12349.0            19          1  176075.12\n",
       "4     12350.0           310          1   48173.37"
      ]
     },
     "execution_count": 46,
     "metadata": {},
     "output_type": "execute_result"
    }
   ],
   "source": [
    "rfm.head()"
   ]
  },
  {
   "cell_type": "code",
   "execution_count": 47,
   "id": "0583cc7a",
   "metadata": {},
   "outputs": [
    {
     "data": {
      "text/html": [
       "<div>\n",
       "<style scoped>\n",
       "    .dataframe tbody tr th:only-of-type {\n",
       "        vertical-align: middle;\n",
       "    }\n",
       "\n",
       "    .dataframe tbody tr th {\n",
       "        vertical-align: top;\n",
       "    }\n",
       "\n",
       "    .dataframe thead th {\n",
       "        text-align: right;\n",
       "    }\n",
       "</style>\n",
       "<table border=\"1\" class=\"dataframe\">\n",
       "  <thead>\n",
       "    <tr style=\"text-align: right;\">\n",
       "      <th></th>\n",
       "      <th>CustomerID</th>\n",
       "      <th>recency_days</th>\n",
       "      <th>frequency</th>\n",
       "      <th>monetary</th>\n",
       "    </tr>\n",
       "  </thead>\n",
       "  <tbody>\n",
       "    <tr>\n",
       "      <th>count</th>\n",
       "      <td>4372.000000</td>\n",
       "      <td>4372.000000</td>\n",
       "      <td>4372.000000</td>\n",
       "      <td>4.372000e+03</td>\n",
       "    </tr>\n",
       "    <tr>\n",
       "      <th>mean</th>\n",
       "      <td>15299.677722</td>\n",
       "      <td>92.047118</td>\n",
       "      <td>5.075480</td>\n",
       "      <td>2.372909e+05</td>\n",
       "    </tr>\n",
       "    <tr>\n",
       "      <th>std</th>\n",
       "      <td>1722.390705</td>\n",
       "      <td>100.765435</td>\n",
       "      <td>9.338754</td>\n",
       "      <td>5.944603e+05</td>\n",
       "    </tr>\n",
       "    <tr>\n",
       "      <th>min</th>\n",
       "      <td>12346.000000</td>\n",
       "      <td>1.000000</td>\n",
       "      <td>1.000000</td>\n",
       "      <td>1.736000e+01</td>\n",
       "    </tr>\n",
       "    <tr>\n",
       "      <th>25%</th>\n",
       "      <td>13812.750000</td>\n",
       "      <td>17.000000</td>\n",
       "      <td>1.000000</td>\n",
       "      <td>4.350893e+04</td>\n",
       "    </tr>\n",
       "    <tr>\n",
       "      <th>50%</th>\n",
       "      <td>15300.500000</td>\n",
       "      <td>50.000000</td>\n",
       "      <td>3.000000</td>\n",
       "      <td>1.066925e+05</td>\n",
       "    </tr>\n",
       "    <tr>\n",
       "      <th>75%</th>\n",
       "      <td>16778.250000</td>\n",
       "      <td>143.000000</td>\n",
       "      <td>5.000000</td>\n",
       "      <td>2.599154e+05</td>\n",
       "    </tr>\n",
       "    <tr>\n",
       "      <th>max</th>\n",
       "      <td>18287.000000</td>\n",
       "      <td>374.000000</td>\n",
       "      <td>248.000000</td>\n",
       "      <td>2.038383e+07</td>\n",
       "    </tr>\n",
       "  </tbody>\n",
       "</table>\n",
       "</div>"
      ],
      "text/plain": [
       "         CustomerID  recency_days    frequency      monetary\n",
       "count   4372.000000   4372.000000  4372.000000  4.372000e+03\n",
       "mean   15299.677722     92.047118     5.075480  2.372909e+05\n",
       "std     1722.390705    100.765435     9.338754  5.944603e+05\n",
       "min    12346.000000      1.000000     1.000000  1.736000e+01\n",
       "25%    13812.750000     17.000000     1.000000  4.350893e+04\n",
       "50%    15300.500000     50.000000     3.000000  1.066925e+05\n",
       "75%    16778.250000    143.000000     5.000000  2.599154e+05\n",
       "max    18287.000000    374.000000   248.000000  2.038383e+07"
      ]
     },
     "execution_count": 47,
     "metadata": {},
     "output_type": "execute_result"
    }
   ],
   "source": [
    "rfm.describe() #most customers are low frequency buyers"
   ]
  },
  {
   "cell_type": "code",
   "execution_count": 48,
   "id": "e5245a45",
   "metadata": {},
   "outputs": [
    {
     "data": {
      "text/plain": [
       "Index(['CustomerID', 'recency_days', 'frequency', 'monetary'], dtype='object')"
      ]
     },
     "execution_count": 48,
     "metadata": {},
     "output_type": "execute_result"
    }
   ],
   "source": [
    "#Customer segmentation, normalise the features to get them to the same scale\n",
    "rfm.columns"
   ]
  },
  {
   "cell_type": "code",
   "execution_count": 49,
   "id": "bef82135",
   "metadata": {},
   "outputs": [],
   "source": [
    "X = rfm[['recency_days', 'frequency', 'monetary']].copy()"
   ]
  },
  {
   "cell_type": "code",
   "execution_count": 50,
   "id": "b6ebbc97",
   "metadata": {},
   "outputs": [],
   "source": [
    "from sklearn.preprocessing  import StandardScaler"
   ]
  },
  {
   "cell_type": "code",
   "execution_count": 51,
   "id": "44b6c389",
   "metadata": {},
   "outputs": [],
   "source": [
    "ss= StandardScaler()"
   ]
  },
  {
   "cell_type": "code",
   "execution_count": 52,
   "id": "f5d5387e",
   "metadata": {},
   "outputs": [],
   "source": [
    "X_scaled = ss.fit_transform(X)"
   ]
  },
  {
   "cell_type": "code",
   "execution_count": 53,
   "id": "8085b0d4",
   "metadata": {},
   "outputs": [
    {
     "data": {
      "text/plain": [
       "array([[ 2.32202285, -0.32936215, -0.39022789],\n",
       "       [-0.89373323,  0.20610242,  0.32673724],\n",
       "       [-0.1691956 , -0.11517632, -0.26062315],\n",
       "       [-0.72500529, -0.43645506, -0.1029888 ],\n",
       "       [ 2.16322008, -0.43645506, -0.31816948]])"
      ]
     },
     "execution_count": 53,
     "metadata": {},
     "output_type": "execute_result"
    }
   ],
   "source": [
    "X_scaled[:5]"
   ]
  },
  {
   "cell_type": "code",
   "execution_count": 54,
   "id": "9fa0243d",
   "metadata": {},
   "outputs": [],
   "source": [
    "from sklearn.cluster import KMeans"
   ]
  },
  {
   "cell_type": "code",
   "execution_count": 55,
   "id": "ddf47114",
   "metadata": {},
   "outputs": [],
   "source": [
    "from sklearn.metrics import silhouette_score"
   ]
  },
  {
   "cell_type": "code",
   "execution_count": 56,
   "id": "7a6196ba",
   "metadata": {},
   "outputs": [],
   "source": [
    "inertia = []\n",
    "s_score =[]\n",
    "k_range = range(2,11)"
   ]
  },
  {
   "cell_type": "code",
   "execution_count": 57,
   "id": "b078969f",
   "metadata": {},
   "outputs": [],
   "source": [
    "for k in k_range:\n",
    "    km = KMeans(n_clusters = k, random_state=42, n_init=10)\n",
    "    Labels = km.fit_predict(X_scaled)\n",
    "    inertia.append(km.inertia_)\n",
    "    s_score.append(silhouette_score(X_scaled, Labels))"
   ]
  },
  {
   "cell_type": "code",
   "execution_count": 58,
   "id": "c639c3bb",
   "metadata": {},
   "outputs": [
    {
     "data": {
      "text/plain": [
       "Text(0, 0.5, 'Inertia')"
      ]
     },
     "execution_count": 58,
     "metadata": {},
     "output_type": "execute_result"
    },
    {
     "data": {
      "image/png": "[encoded data removed]",
      "text/plain": [
       "<Figure size 800x500 with 1 Axes>"
      ]
     },
     "metadata": {},
     "output_type": "display_data"
    }
   ],
   "source": [
    "plt.figure(figsize=(8,5))\n",
    "plt.plot(k_range, inertia, marker = \"o\")\n",
    "plt.title(\"Elbow method (inertia_)\")\n",
    "plt.xlabel('K')\n",
    "plt.ylabel('Inertia')"
   ]
  },
  {
   "cell_type": "code",
   "execution_count": 59,
   "id": "40b3c225",
   "metadata": {
    "scrolled": true
   },
   "outputs": [
    {
     "data": {
      "image/png": "[encoded data removed]",
      "text/plain": [
       "<Figure size 800x500 with 1 Axes>"
      ]
     },
     "metadata": {},
     "output_type": "display_data"
    }
   ],
   "source": [
    "plt.figure(figsize=(8,5))\n",
    "plt.subplot(1,2,2)\n",
    "plt.plot(k_range, s_score, marker='o')\n",
    "plt.title('Silhouette score')\n",
    "plt.xlabel('K')\n",
    "plt.ylabel('Silhouette score')\n",
    "plt.tight_layout()\n",
    "plt.show()"
   ]
  },
  {
   "cell_type": "code",
   "execution_count": 60,
   "id": "e4dd7ca4",
   "metadata": {},
   "outputs": [
    {
     "name": "stdout",
     "output_type": "stream",
     "text": [
      "Requirement already satisfied: yellowbrick in /Applications/anaconda3/lib/python3.10/site-packages (1.5)\n",
      "Requirement already satisfied: matplotlib!=3.0.0,>=2.0.2 in /Applications/anaconda3/lib/python3.10/site-packages (from yellowbrick) (3.7.0)\n",
      "Requirement already satisfied: scikit-learn>=1.0.0 in /Applications/anaconda3/lib/python3.10/site-packages (from yellowbrick) (1.2.1)\n",
      "Requirement already satisfied: scipy>=1.0.0 in /Applications/anaconda3/lib/python3.10/site-packages (from yellowbrick) (1.10.0)\n",
      "Requirement already satisfied: cycler>=0.10.0 in /Applications/anaconda3/lib/python3.10/site-packages (from yellowbrick) (0.11.0)\n",
      "Requirement already satisfied: numpy>=1.16.0 in /Applications/anaconda3/lib/python3.10/site-packages (from yellowbrick) (1.23.5)\n",
      "Requirement already satisfied: pillow>=6.2.0 in /Applications/anaconda3/lib/python3.10/site-packages (from matplotlib!=3.0.0,>=2.0.2->yellowbrick) (9.4.0)\n",
      "Requirement already satisfied: python-dateutil>=2.7 in /Applications/anaconda3/lib/python3.10/site-packages (from matplotlib!=3.0.0,>=2.0.2->yellowbrick) (2.8.2)\n",
      "Requirement already satisfied: pyparsing>=2.3.1 in /Applications/anaconda3/lib/python3.10/site-packages (from matplotlib!=3.0.0,>=2.0.2->yellowbrick) (3.0.9)\n",
      "Requirement already satisfied: fonttools>=4.22.0 in /Applications/anaconda3/lib/python3.10/site-packages (from matplotlib!=3.0.0,>=2.0.2->yellowbrick) (4.25.0)\n",
      "Requirement already satisfied: packaging>=20.0 in /Applications/anaconda3/lib/python3.10/site-packages (from matplotlib!=3.0.0,>=2.0.2->yellowbrick) (22.0)\n",
      "Requirement already satisfied: kiwisolver>=1.0.1 in /Applications/anaconda3/lib/python3.10/site-packages (from matplotlib!=3.0.0,>=2.0.2->yellowbrick) (1.4.4)\n",
      "Requirement already satisfied: contourpy>=1.0.1 in /Applications/anaconda3/lib/python3.10/site-packages (from matplotlib!=3.0.0,>=2.0.2->yellowbrick) (1.0.5)\n",
      "Requirement already satisfied: joblib>=1.1.1 in /Applications/anaconda3/lib/python3.10/site-packages (from scikit-learn>=1.0.0->yellowbrick) (1.1.1)\n",
      "Requirement already satisfied: threadpoolctl>=2.0.0 in /Applications/anaconda3/lib/python3.10/site-packages (from scikit-learn>=1.0.0->yellowbrick) (2.2.0)\n",
      "Requirement already satisfied: six>=1.5 in /Applications/anaconda3/lib/python3.10/site-packages (from python-dateutil>=2.7->matplotlib!=3.0.0,>=2.0.2->yellowbrick) (1.16.0)\n"
     ]
    }
   ],
   "source": [
    "!pip install yellowbrick"
   ]
  },
  {
   "cell_type": "code",
   "execution_count": 61,
   "id": "ab0ddd00",
   "metadata": {},
   "outputs": [],
   "source": [
    "from yellowbrick.cluster import KElbowVisualizer"
   ]
  },
  {
   "cell_type": "code",
   "execution_count": 62,
   "id": "1f2f5672",
   "metadata": {},
   "outputs": [],
   "source": [
    "model = KMeans(random_state=42)"
   ]
  },
  {
   "cell_type": "code",
   "execution_count": 63,
   "id": "88da265f",
   "metadata": {},
   "outputs": [
    {
     "name": "stderr",
     "output_type": "stream",
     "text": [
      "/Applications/anaconda3/lib/python3.10/site-packages/sklearn/cluster/_kmeans.py:870: FutureWarning: The default value of `n_init` will change from 10 to 'auto' in 1.4. Set the value of `n_init` explicitly to suppress the warning\n",
      "  warnings.warn(\n",
      "/Applications/anaconda3/lib/python3.10/site-packages/sklearn/cluster/_kmeans.py:870: FutureWarning: The default value of `n_init` will change from 10 to 'auto' in 1.4. Set the value of `n_init` explicitly to suppress the warning\n",
      "  warnings.warn(\n",
      "/Applications/anaconda3/lib/python3.10/site-packages/sklearn/cluster/_kmeans.py:870: FutureWarning: The default value of `n_init` will change from 10 to 'auto' in 1.4. Set the value of `n_init` explicitly to suppress the warning\n",
      "  warnings.warn(\n",
      "/Applications/anaconda3/lib/python3.10/site-packages/sklearn/cluster/_kmeans.py:870: FutureWarning: The default value of `n_init` will change from 10 to 'auto' in 1.4. Set the value of `n_init` explicitly to suppress the warning\n",
      "  warnings.warn(\n",
      "/Applications/anaconda3/lib/python3.10/site-packages/sklearn/cluster/_kmeans.py:870: FutureWarning: The default value of `n_init` will change from 10 to 'auto' in 1.4. Set the value of `n_init` explicitly to suppress the warning\n",
      "  warnings.warn(\n",
      "/Applications/anaconda3/lib/python3.10/site-packages/sklearn/cluster/_kmeans.py:870: FutureWarning: The default value of `n_init` will change from 10 to 'auto' in 1.4. Set the value of `n_init` explicitly to suppress the warning\n",
      "  warnings.warn(\n",
      "/Applications/anaconda3/lib/python3.10/site-packages/sklearn/cluster/_kmeans.py:870: FutureWarning: The default value of `n_init` will change from 10 to 'auto' in 1.4. Set the value of `n_init` explicitly to suppress the warning\n",
      "  warnings.warn(\n",
      "/Applications/anaconda3/lib/python3.10/site-packages/sklearn/cluster/_kmeans.py:870: FutureWarning: The default value of `n_init` will change from 10 to 'auto' in 1.4. Set the value of `n_init` explicitly to suppress the warning\n",
      "  warnings.warn(\n"
     ]
    },
    {
     "data": {
      "text/html": [
       "<style>#sk-container-id-1 {color: black;background-color: white;}#sk-container-id-1 pre{padding: 0;}#sk-container-id-1 div.sk-toggleable {background-color: white;}#sk-container-id-1 label.sk-toggleable__label {cursor: pointer;display: block;width: 100%;margin-bottom: 0;padding: 0.3em;box-sizing: border-box;text-align: center;}#sk-container-id-1 label.sk-toggleable__label-arrow:before {content: \"▸\";float: left;margin-right: 0.25em;color: #696969;}#sk-container-id-1 label.sk-toggleable__label-arrow:hover:before {color: black;}#sk-container-id-1 div.sk-estimator:hover label.sk-toggleable__label-arrow:before {color: black;}#sk-container-id-1 div.sk-toggleable__content {max-height: 0;max-width: 0;overflow: hidden;text-align: left;background-color: #f0f8ff;}#sk-container-id-1 div.sk-toggleable__content pre {margin: 0.2em;color: black;border-radius: 0.25em;background-color: #f0f8ff;}#sk-container-id-1 input.sk-toggleable__control:checked~div.sk-toggleable__content {max-height: 200px;max-width: 100%;overflow: auto;}#sk-container-id-1 input.sk-toggleable__control:checked~label.sk-toggleable__label-arrow:before {content: \"▾\";}#sk-container-id-1 div.sk-estimator input.sk-toggleable__control:checked~label.sk-toggleable__label {background-color: #d4ebff;}#sk-container-id-1 div.sk-label input.sk-toggleable__control:checked~label.sk-toggleable__label {background-color: #d4ebff;}#sk-container-id-1 input.sk-hidden--visually {border: 0;clip: rect(1px 1px 1px 1px);clip: rect(1px, 1px, 1px, 1px);height: 1px;margin: -1px;overflow: hidden;padding: 0;position: absolute;width: 1px;}#sk-container-id-1 div.sk-estimator {font-family: monospace;background-color: #f0f8ff;border: 1px dotted black;border-radius: 0.25em;box-sizing: border-box;margin-bottom: 0.5em;}#sk-container-id-1 div.sk-estimator:hover {background-color: #d4ebff;}#sk-container-id-1 div.sk-parallel-item::after {content: \"\";width: 100%;border-bottom: 1px solid gray;flex-grow: 1;}#sk-container-id-1 div.sk-label:hover label.sk-toggleable__label {background-color: #d4ebff;}#sk-container-id-1 div.sk-serial::before {content: \"\";position: absolute;border-left: 1px solid gray;box-sizing: border-box;top: 0;bottom: 0;left: 50%;z-index: 0;}#sk-container-id-1 div.sk-serial {display: flex;flex-direction: column;align-items: center;background-color: white;padding-right: 0.2em;padding-left: 0.2em;position: relative;}#sk-container-id-1 div.sk-item {position: relative;z-index: 1;}#sk-container-id-1 div.sk-parallel {display: flex;align-items: stretch;justify-content: center;background-color: white;position: relative;}#sk-container-id-1 div.sk-item::before, #sk-container-id-1 div.sk-parallel-item::before {content: \"\";position: absolute;border-left: 1px solid gray;box-sizing: border-box;top: 0;bottom: 0;left: 50%;z-index: -1;}#sk-container-id-1 div.sk-parallel-item {display: flex;flex-direction: column;z-index: 1;position: relative;background-color: white;}#sk-container-id-1 div.sk-parallel-item:first-child::after {align-self: flex-end;width: 50%;}#sk-container-id-1 div.sk-parallel-item:last-child::after {align-self: flex-start;width: 50%;}#sk-container-id-1 div.sk-parallel-item:only-child::after {width: 0;}#sk-container-id-1 div.sk-dashed-wrapped {border: 1px dashed gray;margin: 0 0.4em 0.5em 0.4em;box-sizing: border-box;padding-bottom: 0.4em;background-color: white;}#sk-container-id-1 div.sk-label label {font-family: monospace;font-weight: bold;display: inline-block;line-height: 1.2em;}#sk-container-id-1 div.sk-label-container {text-align: center;}#sk-container-id-1 div.sk-container {/* jupyter's `normalize.less` sets `[hidden] { display: none; }` but bootstrap.min.css set `[hidden] { display: none !important; }` so we also need the `!important` here to be able to override the default hidden behavior on the sphinx rendered scikit-learn.org. See: https://github.com/scikit-learn/scikit-learn/issues/21755 */display: inline-block !important;position: relative;}#sk-container-id-1 div.sk-text-repr-fallback {display: none;}</style><div id=\"sk-container-id-1\" class=\"sk-top-container\"><div class=\"sk-text-repr-fallback\"><pre>KElbowVisualizer(ax=&lt;Axes: &gt;, estimator=KMeans(n_clusters=9, random_state=42),\n",
       "                 k=(2, 10))</pre><b>In a Jupyter environment, please rerun this cell to show the HTML representation or trust the notebook. <br />On GitHub, the HTML representation is unable to render, please try loading this page with nbviewer.org.</b></div><div class=\"sk-container\" hidden><div class=\"sk-item sk-dashed-wrapped\"><div class=\"sk-label-container\"><div class=\"sk-label sk-toggleable\"><input class=\"sk-toggleable__control sk-hidden--visually\" id=\"sk-estimator-id-1\" type=\"checkbox\" ><label for=\"sk-estimator-id-1\" class=\"sk-toggleable__label sk-toggleable__label-arrow\">KElbowVisualizer</label><div class=\"sk-toggleable__content\"><pre>KElbowVisualizer(ax=&lt;Axes: &gt;, estimator=KMeans(n_clusters=9, random_state=42),\n",
       "                 k=(2, 10))</pre></div></div></div><div class=\"sk-parallel\"><div class=\"sk-parallel-item\"><div class=\"sk-item\"><div class=\"sk-label-container\"><div class=\"sk-label sk-toggleable\"><input class=\"sk-toggleable__control sk-hidden--visually\" id=\"sk-estimator-id-2\" type=\"checkbox\" ><label for=\"sk-estimator-id-2\" class=\"sk-toggleable__label sk-toggleable__label-arrow\">estimator: KMeans</label><div class=\"sk-toggleable__content\"><pre>KMeans(n_clusters=9, random_state=42)</pre></div></div></div><div class=\"sk-serial\"><div class=\"sk-item\"><div class=\"sk-estimator sk-toggleable\"><input class=\"sk-toggleable__control sk-hidden--visually\" id=\"sk-estimator-id-3\" type=\"checkbox\" ><label for=\"sk-estimator-id-3\" class=\"sk-toggleable__label sk-toggleable__label-arrow\">KMeans</label><div class=\"sk-toggleable__content\"><pre>KMeans(n_clusters=9, random_state=42)</pre></div></div></div></div></div></div></div></div></div></div>"
      ],
      "text/plain": [
       "KElbowVisualizer(ax=<Axes: >, estimator=KMeans(n_clusters=9, random_state=42),\n",
       "                 k=(2, 10))"
      ]
     },
     "execution_count": 63,
     "metadata": {},
     "output_type": "execute_result"
    },
    {
     "data": {
      "image/png": "[encoded data removed]",
      "text/plain": [
       "<Figure size 800x550 with 2 Axes>"
      ]
     },
     "metadata": {},
     "output_type": "display_data"
    }
   ],
   "source": [
    "v = KElbowVisualizer(model, k=(2,10))\n",
    "v.fit(X_scaled)"
   ]
  },
  {
   "cell_type": "code",
   "execution_count": 64,
   "id": "6e4f0a9f",
   "metadata": {},
   "outputs": [],
   "source": [
    "final_k=4\n",
    "final_model =KMeans(n_clusters=final_k, random_state=42)"
   ]
  },
  {
   "cell_type": "code",
   "execution_count": 65,
   "id": "c3c593e8",
   "metadata": {},
   "outputs": [
    {
     "name": "stderr",
     "output_type": "stream",
     "text": [
      "/Applications/anaconda3/lib/python3.10/site-packages/sklearn/cluster/_kmeans.py:870: FutureWarning: The default value of `n_init` will change from 10 to 'auto' in 1.4. Set the value of `n_init` explicitly to suppress the warning\n",
      "  warnings.warn(\n"
     ]
    },
    {
     "data": {
      "text/html": [
       "<style>#sk-container-id-2 {color: black;background-color: white;}#sk-container-id-2 pre{padding: 0;}#sk-container-id-2 div.sk-toggleable {background-color: white;}#sk-container-id-2 label.sk-toggleable__label {cursor: pointer;display: block;width: 100%;margin-bottom: 0;padding: 0.3em;box-sizing: border-box;text-align: center;}#sk-container-id-2 label.sk-toggleable__label-arrow:before {content: \"▸\";float: left;margin-right: 0.25em;color: #696969;}#sk-container-id-2 label.sk-toggleable__label-arrow:hover:before {color: black;}#sk-container-id-2 div.sk-estimator:hover label.sk-toggleable__label-arrow:before {color: black;}#sk-container-id-2 div.sk-toggleable__content {max-height: 0;max-width: 0;overflow: hidden;text-align: left;background-color: #f0f8ff;}#sk-container-id-2 div.sk-toggleable__content pre {margin: 0.2em;color: black;border-radius: 0.25em;background-color: #f0f8ff;}#sk-container-id-2 input.sk-toggleable__control:checked~div.sk-toggleable__content {max-height: 200px;max-width: 100%;overflow: auto;}#sk-container-id-2 input.sk-toggleable__control:checked~label.sk-toggleable__label-arrow:before {content: \"▾\";}#sk-container-id-2 div.sk-estimator input.sk-toggleable__control:checked~label.sk-toggleable__label {background-color: #d4ebff;}#sk-container-id-2 div.sk-label input.sk-toggleable__control:checked~label.sk-toggleable__label {background-color: #d4ebff;}#sk-container-id-2 input.sk-hidden--visually {border: 0;clip: rect(1px 1px 1px 1px);clip: rect(1px, 1px, 1px, 1px);height: 1px;margin: -1px;overflow: hidden;padding: 0;position: absolute;width: 1px;}#sk-container-id-2 div.sk-estimator {font-family: monospace;background-color: #f0f8ff;border: 1px dotted black;border-radius: 0.25em;box-sizing: border-box;margin-bottom: 0.5em;}#sk-container-id-2 div.sk-estimator:hover {background-color: #d4ebff;}#sk-container-id-2 div.sk-parallel-item::after {content: \"\";width: 100%;border-bottom: 1px solid gray;flex-grow: 1;}#sk-container-id-2 div.sk-label:hover label.sk-toggleable__label {background-color: #d4ebff;}#sk-container-id-2 div.sk-serial::before {content: \"\";position: absolute;border-left: 1px solid gray;box-sizing: border-box;top: 0;bottom: 0;left: 50%;z-index: 0;}#sk-container-id-2 div.sk-serial {display: flex;flex-direction: column;align-items: center;background-color: white;padding-right: 0.2em;padding-left: 0.2em;position: relative;}#sk-container-id-2 div.sk-item {position: relative;z-index: 1;}#sk-container-id-2 div.sk-parallel {display: flex;align-items: stretch;justify-content: center;background-color: white;position: relative;}#sk-container-id-2 div.sk-item::before, #sk-container-id-2 div.sk-parallel-item::before {content: \"\";position: absolute;border-left: 1px solid gray;box-sizing: border-box;top: 0;bottom: 0;left: 50%;z-index: -1;}#sk-container-id-2 div.sk-parallel-item {display: flex;flex-direction: column;z-index: 1;position: relative;background-color: white;}#sk-container-id-2 div.sk-parallel-item:first-child::after {align-self: flex-end;width: 50%;}#sk-container-id-2 div.sk-parallel-item:last-child::after {align-self: flex-start;width: 50%;}#sk-container-id-2 div.sk-parallel-item:only-child::after {width: 0;}#sk-container-id-2 div.sk-dashed-wrapped {border: 1px dashed gray;margin: 0 0.4em 0.5em 0.4em;box-sizing: border-box;padding-bottom: 0.4em;background-color: white;}#sk-container-id-2 div.sk-label label {font-family: monospace;font-weight: bold;display: inline-block;line-height: 1.2em;}#sk-container-id-2 div.sk-label-container {text-align: center;}#sk-container-id-2 div.sk-container {/* jupyter's `normalize.less` sets `[hidden] { display: none; }` but bootstrap.min.css set `[hidden] { display: none !important; }` so we also need the `!important` here to be able to override the default hidden behavior on the sphinx rendered scikit-learn.org. See: https://github.com/scikit-learn/scikit-learn/issues/21755 */display: inline-block !important;position: relative;}#sk-container-id-2 div.sk-text-repr-fallback {display: none;}</style><div id=\"sk-container-id-2\" class=\"sk-top-container\"><div class=\"sk-text-repr-fallback\"><pre>KMeans(n_clusters=4, random_state=42)</pre><b>In a Jupyter environment, please rerun this cell to show the HTML representation or trust the notebook. <br />On GitHub, the HTML representation is unable to render, please try loading this page with nbviewer.org.</b></div><div class=\"sk-container\" hidden><div class=\"sk-item\"><div class=\"sk-estimator sk-toggleable\"><input class=\"sk-toggleable__control sk-hidden--visually\" id=\"sk-estimator-id-4\" type=\"checkbox\" checked><label for=\"sk-estimator-id-4\" class=\"sk-toggleable__label sk-toggleable__label-arrow\">KMeans</label><div class=\"sk-toggleable__content\"><pre>KMeans(n_clusters=4, random_state=42)</pre></div></div></div></div></div>"
      ],
      "text/plain": [
       "KMeans(n_clusters=4, random_state=42)"
      ]
     },
     "execution_count": 65,
     "metadata": {},
     "output_type": "execute_result"
    }
   ],
   "source": [
    "final_model.fit(X_scaled)"
   ]
  },
  {
   "cell_type": "code",
   "execution_count": 66,
   "id": "3d699999",
   "metadata": {},
   "outputs": [
    {
     "data": {
      "text/html": [
       "<div>\n",
       "<style scoped>\n",
       "    .dataframe tbody tr th:only-of-type {\n",
       "        vertical-align: middle;\n",
       "    }\n",
       "\n",
       "    .dataframe tbody tr th {\n",
       "        vertical-align: top;\n",
       "    }\n",
       "\n",
       "    .dataframe thead th {\n",
       "        text-align: right;\n",
       "    }\n",
       "</style>\n",
       "<table border=\"1\" class=\"dataframe\">\n",
       "  <thead>\n",
       "    <tr style=\"text-align: right;\">\n",
       "      <th></th>\n",
       "      <th>CustomerID</th>\n",
       "      <th>recency_days</th>\n",
       "      <th>frequency</th>\n",
       "      <th>monetary</th>\n",
       "    </tr>\n",
       "  </thead>\n",
       "  <tbody>\n",
       "    <tr>\n",
       "      <th>0</th>\n",
       "      <td>12346.0</td>\n",
       "      <td>326</td>\n",
       "      <td>2</td>\n",
       "      <td>5342.40</td>\n",
       "    </tr>\n",
       "    <tr>\n",
       "      <th>1</th>\n",
       "      <td>12347.0</td>\n",
       "      <td>2</td>\n",
       "      <td>7</td>\n",
       "      <td>431501.00</td>\n",
       "    </tr>\n",
       "    <tr>\n",
       "      <th>2</th>\n",
       "      <td>12348.0</td>\n",
       "      <td>75</td>\n",
       "      <td>4</td>\n",
       "      <td>82378.47</td>\n",
       "    </tr>\n",
       "    <tr>\n",
       "      <th>3</th>\n",
       "      <td>12349.0</td>\n",
       "      <td>19</td>\n",
       "      <td>1</td>\n",
       "      <td>176075.12</td>\n",
       "    </tr>\n",
       "    <tr>\n",
       "      <th>4</th>\n",
       "      <td>12350.0</td>\n",
       "      <td>310</td>\n",
       "      <td>1</td>\n",
       "      <td>48173.37</td>\n",
       "    </tr>\n",
       "  </tbody>\n",
       "</table>\n",
       "</div>"
      ],
      "text/plain": [
       "   CustomerID  recency_days  frequency   monetary\n",
       "0     12346.0           326          2    5342.40\n",
       "1     12347.0             2          7  431501.00\n",
       "2     12348.0            75          4   82378.47\n",
       "3     12349.0            19          1  176075.12\n",
       "4     12350.0           310          1   48173.37"
      ]
     },
     "execution_count": 66,
     "metadata": {},
     "output_type": "execute_result"
    }
   ],
   "source": [
    "rfm.head()"
   ]
  },
  {
   "cell_type": "code",
   "execution_count": 67,
   "id": "32c3bc70",
   "metadata": {},
   "outputs": [],
   "source": [
    "rfm['Cluster'] = final_model.labels_"
   ]
  },
  {
   "cell_type": "code",
   "execution_count": 68,
   "id": "fe39124b",
   "metadata": {},
   "outputs": [
    {
     "data": {
      "text/html": [
       "<div>\n",
       "<style scoped>\n",
       "    .dataframe tbody tr th:only-of-type {\n",
       "        vertical-align: middle;\n",
       "    }\n",
       "\n",
       "    .dataframe tbody tr th {\n",
       "        vertical-align: top;\n",
       "    }\n",
       "\n",
       "    .dataframe thead th {\n",
       "        text-align: right;\n",
       "    }\n",
       "</style>\n",
       "<table border=\"1\" class=\"dataframe\">\n",
       "  <thead>\n",
       "    <tr style=\"text-align: right;\">\n",
       "      <th></th>\n",
       "      <th>CustomerID</th>\n",
       "      <th>recency_days</th>\n",
       "      <th>frequency</th>\n",
       "      <th>monetary</th>\n",
       "      <th>Cluster</th>\n",
       "    </tr>\n",
       "  </thead>\n",
       "  <tbody>\n",
       "    <tr>\n",
       "      <th>0</th>\n",
       "      <td>12346.0</td>\n",
       "      <td>326</td>\n",
       "      <td>2</td>\n",
       "      <td>5342.40</td>\n",
       "      <td>3</td>\n",
       "    </tr>\n",
       "    <tr>\n",
       "      <th>1</th>\n",
       "      <td>12347.0</td>\n",
       "      <td>2</td>\n",
       "      <td>7</td>\n",
       "      <td>431501.00</td>\n",
       "      <td>0</td>\n",
       "    </tr>\n",
       "    <tr>\n",
       "      <th>2</th>\n",
       "      <td>12348.0</td>\n",
       "      <td>75</td>\n",
       "      <td>4</td>\n",
       "      <td>82378.47</td>\n",
       "      <td>0</td>\n",
       "    </tr>\n",
       "    <tr>\n",
       "      <th>3</th>\n",
       "      <td>12349.0</td>\n",
       "      <td>19</td>\n",
       "      <td>1</td>\n",
       "      <td>176075.12</td>\n",
       "      <td>0</td>\n",
       "    </tr>\n",
       "    <tr>\n",
       "      <th>4</th>\n",
       "      <td>12350.0</td>\n",
       "      <td>310</td>\n",
       "      <td>1</td>\n",
       "      <td>48173.37</td>\n",
       "      <td>3</td>\n",
       "    </tr>\n",
       "  </tbody>\n",
       "</table>\n",
       "</div>"
      ],
      "text/plain": [
       "   CustomerID  recency_days  frequency   monetary  Cluster\n",
       "0     12346.0           326          2    5342.40        3\n",
       "1     12347.0             2          7  431501.00        0\n",
       "2     12348.0            75          4   82378.47        0\n",
       "3     12349.0            19          1  176075.12        0\n",
       "4     12350.0           310          1   48173.37        3"
      ]
     },
     "execution_count": 68,
     "metadata": {},
     "output_type": "execute_result"
    }
   ],
   "source": [
    "rfm.head()"
   ]
  },
  {
   "cell_type": "code",
   "execution_count": 69,
   "id": "09211307",
   "metadata": {},
   "outputs": [],
   "source": [
    "cluster_profile = rfm.groupby('Cluster').agg({\n",
    "        'recency_days': 'mean', \n",
    "        'frequency': 'mean',\n",
    "        'monetary': 'mean',\n",
    "        'CustomerID': 'count'\n",
    "}).rename(columns={'CustomerID': 'NumCustomers'}).round(1)"
   ]
  },
  {
   "cell_type": "code",
   "execution_count": 70,
   "id": "c616eeaf",
   "metadata": {},
   "outputs": [
    {
     "data": {
      "text/html": [
       "<div>\n",
       "<style scoped>\n",
       "    .dataframe tbody tr th:only-of-type {\n",
       "        vertical-align: middle;\n",
       "    }\n",
       "\n",
       "    .dataframe tbody tr th {\n",
       "        vertical-align: top;\n",
       "    }\n",
       "\n",
       "    .dataframe thead th {\n",
       "        text-align: right;\n",
       "    }\n",
       "</style>\n",
       "<table border=\"1\" class=\"dataframe\">\n",
       "  <thead>\n",
       "    <tr style=\"text-align: right;\">\n",
       "      <th></th>\n",
       "      <th>recency_days</th>\n",
       "      <th>frequency</th>\n",
       "      <th>monetary</th>\n",
       "      <th>NumCustomers</th>\n",
       "    </tr>\n",
       "    <tr>\n",
       "      <th>Cluster</th>\n",
       "      <th></th>\n",
       "      <th></th>\n",
       "      <th></th>\n",
       "      <th></th>\n",
       "    </tr>\n",
       "  </thead>\n",
       "  <tbody>\n",
       "    <tr>\n",
       "      <th>0</th>\n",
       "      <td>43.6</td>\n",
       "      <td>4.2</td>\n",
       "      <td>194855.9</td>\n",
       "      <td>3025</td>\n",
       "    </tr>\n",
       "    <tr>\n",
       "      <th>1</th>\n",
       "      <td>11.9</td>\n",
       "      <td>25.2</td>\n",
       "      <td>1113680.2</td>\n",
       "      <td>269</td>\n",
       "    </tr>\n",
       "    <tr>\n",
       "      <th>2</th>\n",
       "      <td>1.7</td>\n",
       "      <td>153.5</td>\n",
       "      <td>12345024.6</td>\n",
       "      <td>6</td>\n",
       "    </tr>\n",
       "    <tr>\n",
       "      <th>3</th>\n",
       "      <td>249.4</td>\n",
       "      <td>1.8</td>\n",
       "      <td>69353.0</td>\n",
       "      <td>1072</td>\n",
       "    </tr>\n",
       "  </tbody>\n",
       "</table>\n",
       "</div>"
      ],
      "text/plain": [
       "         recency_days  frequency    monetary  NumCustomers\n",
       "Cluster                                                   \n",
       "0                43.6        4.2    194855.9          3025\n",
       "1                11.9       25.2   1113680.2           269\n",
       "2                 1.7      153.5  12345024.6             6\n",
       "3               249.4        1.8     69353.0          1072"
      ]
     },
     "execution_count": 70,
     "metadata": {},
     "output_type": "execute_result"
    }
   ],
   "source": [
    "cluster_profile"
   ]
  },
  {
   "cell_type": "code",
   "execution_count": 72,
   "id": "d2ecdf52",
   "metadata": {},
   "outputs": [
    {
     "data": {
      "image/png": "[encoded data removed]",
      "text/plain": [
       "<Figure size 1000x600 with 1 Axes>"
      ]
     },
     "metadata": {},
     "output_type": "display_data"
    }
   ],
   "source": [
    "cluster_names = {\n",
    "    0: \"Loyal Regulars\",\n",
    "    1: \"At Risk / Lost\",\n",
    "    2: \"Ultra-VIPs\",\n",
    "    3: \"Champions\"\n",
    "}\n",
    "\n",
    "# Map cluster indices to names\n",
    "cluster_profile['segment'] = cluster_profile.index.map(cluster_names)\n",
    "\n",
    "# Normalize RFM values\n",
    "df_plot = cluster_profile.copy()\n",
    "df_plot[['recency_days', 'frequency', 'monetary']] = (\n",
    "    df_plot[['recency_days', 'frequency', 'monetary']]\n",
    "    .apply(lambda x: x / x.max())\n",
    ")\n",
    "\n",
    "# Plot normalized RFM profiles\n",
    "df_plot.set_index('segment')[['recency_days', 'frequency', 'monetary']].plot(\n",
    "    kind='bar', figsize=(10, 6)\n",
    ")\n",
    "plt.title('Customer Segments - Normalized RFM Profile')\n",
    "plt.ylabel('Normalized Value (0-1)')\n",
    "plt.xticks(rotation=45)\n",
    "plt.legend(['Recency', 'Frequency', 'Monetary'], bbox_to_anchor=(1.05, 1), loc='upper left')\n",
    "plt.tight_layout()\n",
    "plt.show()"
   ]
  },
  {
   "cell_type": "code",
   "execution_count": null,
   "id": "9f902107",
   "metadata": {},
   "outputs": [],
   "source": []
  }
 ],
 "metadata": {
  "kernelspec": {
   "display_name": "Python 3 (ipykernel)",
   "language": "python",
   "name": "python3"
  },
  "language_info": {
   "codemirror_mode": {
    "name": "ipython",
    "version": 3
   },
   "file_extension": ".py",
   "mimetype": "text/x-python",
   "name": "python",
   "nbconvert_exporter": "python",
   "pygments_lexer": "ipython3",
   "version": "3.10.9"
  }
 },
 "nbformat": 4,
 "nbformat_minor": 5
}
